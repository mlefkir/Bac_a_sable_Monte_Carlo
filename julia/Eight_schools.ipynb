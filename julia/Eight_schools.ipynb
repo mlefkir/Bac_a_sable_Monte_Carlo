{
 "cells": [
  {
   "cell_type": "code",
   "execution_count": 1,
   "metadata": {},
   "outputs": [],
   "source": [
    "using Distributed\n",
    "# add processors if we don't have enough\n",
    "if length(workers()) < 6\n",
    "\taddprocs(6)\n",
    "end\n",
    "\n",
    "@everywhere begin\n",
    "\tusing Distributions\n",
    "\tusing Plots\n",
    "\tusing Turing\n",
    "end\n"
   ]
  },
  {
   "cell_type": "markdown",
   "metadata": {},
   "source": [
    "# Eight school problem"
   ]
  },
  {
   "cell_type": "code",
   "execution_count": 2,
   "metadata": {},
   "outputs": [],
   "source": [
    "@everywhere begin\n",
    "\tn_schools = 8\n",
    "\ty = [28.0, 8.0, -3.0, 7.0, -1.0, 1.0, 18.0, 12.0] # estimated treatment effects\n",
    "\tσ = [15.0, 10.0, 16.0, 11.0, 9.0, 11.0, 10.0, 18.0] # standard error of the effect estimate\n",
    "end"
   ]
  },
  {
   "cell_type": "code",
   "execution_count": 3,
   "metadata": {},
   "outputs": [],
   "source": [
    "@everywhere begin\n",
    "\t\n",
    "\t@model function schools(y, σ)\n",
    "\t\tμ ~ Normal(0, 5)\n",
    "\t\tτ ~ truncated(Cauchy(0, 5), lower = 0)\n",
    "\t\tθ ~ filldist(Normal(μ, τ), n_schools)\n",
    "\t\tfor i in 1:n_schools\n",
    "\t\t\ty[i] ~ Normal(θ[i], σ[i])\n",
    "\t\tend\n",
    "\tend\n",
    "\n",
    "\t@model function school_reparam(y, σ)\n",
    "\t\tμ ~ Normal(0, 5)\n",
    "\t\tτ ~ Cauchy(0, 5)\n",
    "\t\tθ ~ filldist(Normal(0, 1), n_schools)\n",
    "\t\t# y .~ ForEach(μ .+ τ .* θ, σ)\n",
    "\t\tfor i in 1:n_schools\n",
    "\t\t\ty[i] ~ Normal(μ + τ * θ[i], σ[i])\n",
    "\t\tend\n",
    "\tend\n",
    "end\n"
   ]
  },
  {
   "cell_type": "markdown",
   "metadata": {},
   "source": [
    "## NUTS "
   ]
  },
  {
   "cell_type": "code",
   "execution_count": 4,
   "metadata": {},
   "outputs": [
    {
     "name": "stderr",
     "output_type": "stream",
     "text": [
      "\u001b[32mSampling (6 processes)   0%|                            |  ETA: N/A\u001b[39m\n"
     ]
    },
    {
     "name": "stdout",
     "output_type": "stream",
     "text": [
      "      From worker 6:\t\u001b[36m\u001b[1m┌ \u001b[22m\u001b[39m\u001b[36m\u001b[1mInfo: \u001b[22m\u001b[39mFound initial step size\n",
      "      From worker 6:\t\u001b[36m\u001b[1m└ \u001b[22m\u001b[39m  ϵ = 0.4\n",
      "      From worker 2:\t\u001b[36m\u001b[1m┌ \u001b[22m\u001b[39m\u001b[36m\u001b[1mInfo: \u001b[22m\u001b[39mFound initial step size\n",
      "      From worker 2:\t\u001b[36m\u001b[1m└ \u001b[22m\u001b[39m  ϵ = 0.8\n",
      "      From worker 3:\t\u001b[36m\u001b[1m┌ \u001b[22m\u001b[39m\u001b[36m\u001b[1mInfo: \u001b[22m\u001b[39mFound initial step size\n",
      "      From worker 3:\t\u001b[36m\u001b[1m└ \u001b[22m\u001b[39m  ϵ = 0.8015625000000001\n",
      "      From worker 4:\t\u001b[36m\u001b[1m┌ \u001b[22m\u001b[39m\u001b[36m\u001b[1mInfo: \u001b[22m\u001b[39mFound initial step size\n",
      "      From worker 4:\t\u001b[36m\u001b[1m└ \u001b[22m\u001b[39m  ϵ = 0.20625000000000002\n",
      "      From worker 5:\t\u001b[36m\u001b[1m┌ \u001b[22m\u001b[39m\u001b[36m\u001b[1mInfo: \u001b[22m\u001b[39mFound initial step size\n",
      "      From worker 5:\t\u001b[36m\u001b[1m└ \u001b[22m\u001b[39m  ϵ = 0.4\n",
      "      From worker 7:\t\u001b[36m\u001b[1m┌ \u001b[22m\u001b[39m\u001b[36m\u001b[1mInfo: \u001b[22m\u001b[39mFound initial step size\n",
      "      From worker 7:\t\u001b[36m\u001b[1m└ \u001b[22m\u001b[39m  ϵ = 0.8\n"
     ]
    },
    {
     "name": "stderr",
     "output_type": "stream",
     "text": [
      "\u001b[32mSampling (6 processes)  17%|████▋                       |  ETA: 0:02:58\u001b[39m\n",
      "\u001b[32mSampling (6 processes)  33%|█████████▍                  |  ETA: 0:01:11\u001b[39m\n",
      "\u001b[32mSampling (6 processes)  50%|██████████████              |  ETA: 0:00:36\u001b[39m\n",
      "\u001b[32mSampling (6 processes)  67%|██████████████████▋         |  ETA: 0:00:18\u001b[39m\n",
      "\u001b[32mSampling (6 processes)  83%|███████████████████████▍    |  ETA: 0:00:07\u001b[39m\n",
      "\u001b[32mSampling (6 processes) 100%|████████████████████████████| Time: 0:00:43\u001b[39m\n",
      "\u001b[90mSampling (6 processes) 100%|████████████████████████████| Time: 0:00:44\u001b[39m\n"
     ]
    },
    {
     "data": {
      "text/plain": [
       "Chains MCMC chain (10000×22×6 Array{Float64, 3}):\n",
       "\n",
       "Iterations        = 1001:1:11000\n",
       "Number of chains  = 6\n",
       "Samples per chain = 10000\n",
       "Wall duration     = 31.0 seconds\n",
       "Compute duration  = 136.6 seconds\n",
       "parameters        = μ, τ, θ[1], θ[2], θ[3], θ[4], θ[5], θ[6], θ[7], θ[8]\n",
       "internals         = lp, n_steps, is_accept, acceptance_rate, log_density, hamiltonian_energy, hamiltonian_energy_error, max_hamiltonian_energy_error, tree_depth, numerical_error, step_size, nom_step_size\n",
       "\n",
       "Summary Statistics\n",
       " \u001b[1m parameters \u001b[0m \u001b[1m    mean \u001b[0m \u001b[1m     std \u001b[0m \u001b[1m    mcse \u001b[0m \u001b[1m  ess_bulk \u001b[0m \u001b[1m   ess_tail \u001b[0m \u001b[1m    rhat \u001b[0m ⋯\n",
       " \u001b[90m     Symbol \u001b[0m \u001b[90m Float64 \u001b[0m \u001b[90m Float64 \u001b[0m \u001b[90m Float64 \u001b[0m \u001b[90m   Float64 \u001b[0m \u001b[90m    Float64 \u001b[0m \u001b[90m Float64 \u001b[0m ⋯\n",
       "\n",
       "           μ    4.4073    3.3571    0.0672   2674.1849    1646.2361    1.0022  ⋯\n",
       "           τ    3.9481    3.1164    0.0580   1313.5621     596.3142    1.0086  ⋯\n",
       "        θ[1]    6.3553    5.7360    0.0756   4701.8715    1689.6166    1.0024  ⋯\n",
       "        θ[2]    5.0179    4.8360    0.0707   4572.4926    1753.8657    1.0018  ⋯\n",
       "        θ[3]    3.9074    5.3903    0.0660   5832.6496   19249.5896    1.0010  ⋯\n",
       "        θ[4]    4.8155    4.9089    0.0673   5005.1556    1713.0586    1.0015  ⋯\n",
       "        θ[5]    3.5598    4.7892    0.0644   5310.1530   19841.2078    1.0015  ⋯\n",
       "        θ[6]    4.0146    5.0090    0.0666   5513.6912    3510.5056    1.0013  ⋯\n",
       "        θ[7]    6.5096    5.2028    0.0766   3955.7790    1692.9358    1.0022  ⋯\n",
       "        θ[8]    4.8919    5.4720    0.0706   5283.4383    1914.5036    1.0017  ⋯\n",
       "\u001b[36m                                                                1 column omitted\u001b[0m\n",
       "\n",
       "Quantiles\n",
       " \u001b[1m parameters \u001b[0m \u001b[1m    2.5% \u001b[0m \u001b[1m   25.0% \u001b[0m \u001b[1m   50.0% \u001b[0m \u001b[1m   75.0% \u001b[0m \u001b[1m   97.5% \u001b[0m\n",
       " \u001b[90m     Symbol \u001b[0m \u001b[90m Float64 \u001b[0m \u001b[90m Float64 \u001b[0m \u001b[90m Float64 \u001b[0m \u001b[90m Float64 \u001b[0m \u001b[90m Float64 \u001b[0m\n",
       "\n",
       "           μ   -2.5199    2.2449    4.4645    6.6902   10.7804\n",
       "           τ    0.6795    1.7136    3.1013    5.2490   12.1475\n",
       "        θ[1]   -3.6149    2.8053    5.8804    9.1604   19.8238\n",
       "        θ[2]   -4.7205    2.0809    4.9782    7.9326   15.0457\n",
       "        θ[3]   -7.7619    0.9109    4.2061    7.2794   13.9082\n",
       "        θ[4]   -4.9102    1.8112    4.8509    7.7964   14.7887\n",
       "        θ[5]   -6.7761    0.7670    3.8894    6.7194   12.2065\n",
       "        θ[6]   -6.5123    1.1498    4.2410    7.1762   13.5576\n",
       "        θ[7]   -2.7732    3.1506    6.0967    9.2956   18.3839\n",
       "        θ[8]   -5.8720    1.7493    4.8493    8.0145   16.2056\n"
      ]
     },
     "metadata": {},
     "output_type": "display_data"
    }
   ],
   "source": [
    "c1 = sample(schools(y, σ), NUTS(0.8),MCMCDistributed(), 10_000,6)"
   ]
  },
  {
   "cell_type": "code",
   "execution_count": 5,
   "metadata": {},
   "outputs": [
    {
     "name": "stderr",
     "output_type": "stream",
     "text": [
      "\u001b[32mSampling (6 processes)   0%|                            |  ETA: N/A\u001b[39m\n"
     ]
    },
    {
     "name": "stdout",
     "output_type": "stream",
     "text": [
      "      From worker 2:\t\u001b[36m\u001b[1m┌ \u001b[22m\u001b[39m\u001b[36m\u001b[1mInfo: \u001b[22m\u001b[39mFound initial step size\n",
      "      From worker 2:\t\u001b[36m\u001b[1m└ \u001b[22m\u001b[39m  ϵ = 1.6\n",
      "      From worker 5:\t\u001b[36m\u001b[1m┌ \u001b[22m\u001b[39m\u001b[36m\u001b[1mInfo: \u001b[22m\u001b[39mFound initial step size\n",
      "      From worker 5:\t\u001b[36m\u001b[1m└ \u001b[22m\u001b[39m  ϵ = 1.6\n",
      "      From worker 7:\t\u001b[36m\u001b[1m┌ \u001b[22m\u001b[39m\u001b[36m\u001b[1mInfo: \u001b[22m\u001b[39mFound initial step size\n",
      "      From worker 7:\t\u001b[36m\u001b[1m└ \u001b[22m\u001b[39m  ϵ = 1.6\n",
      "      From worker 6:\t\u001b[36m\u001b[1m┌ \u001b[22m\u001b[39m\u001b[36m\u001b[1mInfo: \u001b[22m\u001b[39mFound initial step size\n",
      "      From worker 6:\t\u001b[36m\u001b[1m└ \u001b[22m\u001b[39m  ϵ = 1.6\n",
      "      From worker 4:\t\u001b[36m\u001b[1m┌ \u001b[22m\u001b[39m\u001b[36m\u001b[1mInfo: \u001b[22m\u001b[39mFound initial step size\n",
      "      From worker 4:\t\u001b[36m\u001b[1m└ \u001b[22m\u001b[39m  ϵ = 3.2\n",
      "      From worker 3:\t\u001b[36m\u001b[1m┌ \u001b[22m\u001b[39m\u001b[36m\u001b[1mInfo: \u001b[22m\u001b[39mFound initial step size\n",
      "      From worker 3:\t\u001b[36m\u001b[1m└ \u001b[22m\u001b[39m  ϵ = 1.6\n"
     ]
    },
    {
     "name": "stderr",
     "output_type": "stream",
     "text": [
      "\u001b[32mSampling (6 processes)  17%|████▋                       |  ETA: 0:01:10\u001b[39m\n",
      "\u001b[32mSampling (6 processes)  33%|█████████▍                  |  ETA: 0:00:28\u001b[39m\n",
      "\u001b[32mSampling (6 processes)  50%|██████████████              |  ETA: 0:00:14\u001b[39m\n",
      "\u001b[32mSampling (6 processes)  67%|██████████████████▋         |  ETA: 0:00:07\u001b[39m\n",
      "\u001b[32mSampling (6 processes)  83%|███████████████████████▍    |  ETA: 0:00:03\u001b[39m\n",
      "\u001b[32mSampling (6 processes) 100%|████████████████████████████| Time: 0:00:14\u001b[39m\n",
      "\u001b[90mSampling (6 processes) 100%|████████████████████████████| Time: 0:00:14\u001b[39m\n"
     ]
    },
    {
     "data": {
      "text/plain": [
       "Chains MCMC chain (10000×22×6 Array{Float64, 3}):\n",
       "\n",
       "Iterations        = 1001:1:11000\n",
       "Number of chains  = 6\n",
       "Samples per chain = 10000\n",
       "Wall duration     = 12.0 seconds\n",
       "Compute duration  = 68.34 seconds\n",
       "parameters        = μ, τ, θ[1], θ[2], θ[3], θ[4], θ[5], θ[6], θ[7], θ[8]\n",
       "internals         = lp, n_steps, is_accept, acceptance_rate, log_density, hamiltonian_energy, hamiltonian_energy_error, max_hamiltonian_energy_error, tree_depth, numerical_error, step_size, nom_step_size\n",
       "\n",
       "Summary Statistics\n",
       " \u001b[1m parameters \u001b[0m \u001b[1m    mean \u001b[0m \u001b[1m     std \u001b[0m \u001b[1m    mcse \u001b[0m \u001b[1m    ess_bulk \u001b[0m \u001b[1m   ess_tail \u001b[0m \u001b[1m    rha\u001b[0m ⋯\n",
       " \u001b[90m     Symbol \u001b[0m \u001b[90m Float64 \u001b[0m \u001b[90m Float64 \u001b[0m \u001b[90m Float64 \u001b[0m \u001b[90m     Float64 \u001b[0m \u001b[90m    Float64 \u001b[0m \u001b[90m Float6\u001b[0m ⋯\n",
       "\n",
       "           μ    4.4191    3.2928    0.0115    82821.4608   44540.5366    1.000 ⋯\n",
       "           τ   -0.0520    4.7770    0.0240    43571.8120   36370.9743    1.000 ⋯\n",
       "        θ[1]   -0.0036    1.0354    0.0037    78749.9468   49653.6080    1.000 ⋯\n",
       "        θ[2]    0.0003    0.9408    0.0031    92449.2172   44614.2953    1.000 ⋯\n",
       "        θ[3]   -0.0008    0.9727    0.0031    99060.1324   43605.9549    1.000 ⋯\n",
       "        θ[4]   -0.0016    0.9385    0.0030    99612.5796   43314.2063    1.000 ⋯\n",
       "        θ[5]    0.0020    0.9429    0.0031    94797.4090   48057.7219    1.000 ⋯\n",
       "        θ[6]   -0.0002    0.9496    0.0030   102419.7164   44895.1474    1.000 ⋯\n",
       "        θ[7]   -0.0081    1.0266    0.0038    73564.7284   48605.0234    1.000 ⋯\n",
       "        θ[8]   -0.0057    0.9844    0.0030   105672.9113   46734.1189    1.000 ⋯\n",
       "\u001b[36m                                                               2 columns omitted\u001b[0m\n",
       "\n",
       "Quantiles\n",
       " \u001b[1m parameters \u001b[0m \u001b[1m    2.5% \u001b[0m \u001b[1m   25.0% \u001b[0m \u001b[1m   50.0% \u001b[0m \u001b[1m   75.0% \u001b[0m \u001b[1m   97.5% \u001b[0m\n",
       " \u001b[90m     Symbol \u001b[0m \u001b[90m Float64 \u001b[0m \u001b[90m Float64 \u001b[0m \u001b[90m Float64 \u001b[0m \u001b[90m Float64 \u001b[0m \u001b[90m Float64 \u001b[0m\n",
       "\n",
       "           μ   -2.0810    2.2040    4.4286    6.6447   10.8362\n",
       "           τ   -9.8561   -2.7951   -0.0229    2.6841    9.7793\n",
       "        θ[1]   -2.0310   -0.7067   -0.0065    0.7019    2.0086\n",
       "        θ[2]   -1.8345   -0.6257   -0.0003    0.6282    1.8639\n",
       "        θ[3]   -1.8937   -0.6562   -0.0009    0.6559    1.8966\n",
       "        θ[4]   -1.8447   -0.6271   -0.0051    0.6251    1.8523\n",
       "        θ[5]   -1.8623   -0.6257    0.0029    0.6335    1.8537\n",
       "        θ[6]   -1.8567   -0.6383   -0.0025    0.6354    1.8651\n",
       "        θ[7]   -2.0197   -0.7072   -0.0080    0.6898    1.9815\n",
       "        θ[8]   -1.9315   -0.6707   -0.0071    0.6619    1.9171\n"
      ]
     },
     "metadata": {},
     "output_type": "display_data"
    }
   ],
   "source": [
    "c2 = sample(school_reparam(y, σ), NUTS(0.65),MCMCDistributed(), 10_000,6)"
   ]
  },
  {
   "cell_type": "markdown",
   "metadata": {},
   "source": [
    "## Using MicroCanonical HMC"
   ]
  },
  {
   "cell_type": "code",
   "execution_count": 6,
   "metadata": {},
   "outputs": [],
   "source": [
    "@everywhere begin\n",
    "\tusing MicroCanonicalHMC\n",
    "\tn_adapts = 1_000 # adaptation steps\n",
    "\ttev = 0.01 # target energy variance\n",
    "\tmchmc = MCHMC(n_adapts, tev; adaptive = true)\n",
    "end"
   ]
  },
  {
   "cell_type": "code",
   "execution_count": 7,
   "metadata": {},
   "outputs": [
    {
     "name": "stderr",
     "output_type": "stream",
     "text": [
      "\u001b[32mSampling (6 processes)   0%|                            |  ETA: N/A\u001b[39m\n"
     ]
    },
    {
     "name": "stdout",
     "output_type": "stream",
     "text": [
      "      From worker 6:\t\u001b[36m\u001b[1m[ \u001b[22m\u001b[39m\u001b[36m\u001b[1mInfo: \u001b[22m\u001b[39mTuning eps ⏳\n",
      "      From worker 6:\t\u001b[36m\u001b[1m[ \u001b[22m\u001b[39m\u001b[36m\u001b[1mInfo: \u001b[22m\u001b[39mTuning L ⏳\n",
      "      From worker 6:\t\u001b[36m\u001b[1m[ \u001b[22m\u001b[39m\u001b[36m\u001b[1mInfo: \u001b[22m\u001b[39mTuning sigma ⏳\n",
      "      From worker 5:\t\u001b[36m\u001b[1m[ \u001b[22m\u001b[39m\u001b[36m\u001b[1mInfo: \u001b[22m\u001b[39mTuning eps ⏳\n",
      "      From worker 5:\t\u001b[36m\u001b[1m[ \u001b[22m\u001b[39m\u001b[36m\u001b[1mInfo: \u001b[22m\u001b[39mTuning L ⏳\n",
      "      From worker 5:\t\u001b[36m\u001b[1m[ \u001b[22m\u001b[39m\u001b[36m\u001b[1mInfo: \u001b[22m\u001b[39mTuning sigma ⏳\n",
      "      From worker 4:\t\u001b[36m\u001b[1m[ \u001b[22m\u001b[39m\u001b[36m\u001b[1mInfo: \u001b[22m\u001b[39mTuning eps ⏳\n",
      "      From worker 4:\t\u001b[36m\u001b[1m[ \u001b[22m\u001b[39m\u001b[36m\u001b[1mInfo: \u001b[22m\u001b[39mTuning L ⏳\n",
      "      From worker 4:\t\u001b[36m\u001b[1m[ \u001b[22m\u001b[39m\u001b[36m\u001b[1mInfo: \u001b[22m\u001b[39mTuning sigma ⏳\n",
      "      From worker 3:\t\u001b[36m\u001b[1m[ \u001b[22m\u001b[39m\u001b[36m\u001b[1mInfo: \u001b[22m\u001b[39mTuning eps ⏳\n",
      "      From worker 3:\t\u001b[36m\u001b[1m[ \u001b[22m\u001b[39m\u001b[36m\u001b[1mInfo: \u001b[22m\u001b[39mTuning L ⏳\n",
      "      From worker 3:\t\u001b[36m\u001b[1m[ \u001b[22m\u001b[39m\u001b[36m\u001b[1mInfo: \u001b[22m\u001b[39mTuning sigma ⏳\n",
      "      From worker 7:\t\u001b[36m\u001b[1m[ \u001b[22m\u001b[39m\u001b[36m\u001b[1mInfo: \u001b[22m\u001b[39mTuning eps ⏳\n",
      "      From worker 7:\t\u001b[36m\u001b[1m[ \u001b[22m\u001b[39m\u001b[36m\u001b[1mInfo: \u001b[22m\u001b[39mTuning L ⏳\n",
      "      From worker 7:\t\u001b[36m\u001b[1m[ \u001b[22m\u001b[39m\u001b[36m\u001b[1mInfo: \u001b[22m\u001b[39mTuning sigma ⏳\n",
      "      From worker 2:\t\u001b[36m\u001b[1m[ \u001b[22m\u001b[39m\u001b[36m\u001b[1mInfo: \u001b[22m\u001b[39mTuning eps ⏳\n",
      "      From worker 2:\t\u001b[36m\u001b[1m[ \u001b[22m\u001b[39m\u001b[36m\u001b[1mInfo: \u001b[22m\u001b[39mTuning L ⏳\n",
      "      From worker 2:\t\u001b[36m\u001b[1m[ \u001b[22m\u001b[39m\u001b[36m\u001b[1mInfo: \u001b[22m\u001b[39mTuning sigma ⏳\n",
      "\u001b[32mTuning:   0%|▏                                          |  ETA: 0:11:48\u001b[39m\n",
      "      From worker 6:\t\u001b[34m  ϵ:     0.9504123238342497\u001b[39m\n",
      "      From worker 6:\t\u001b[34m  L:     3.1622776601683795\u001b[39m\n",
      "\u001b[32mTuning:   0%|▏                                          |  ETA: 0:11:44\u001b[39m\n",
      "      From worker 5:\t\u001b[34m  ϵ:     1.0879216155914442\u001b[39m\n",
      "      From worker 5:\t\u001b[34m  L:     3.1622776601683795\u001b[39m\n",
      "\u001b[32mTuning:   0%|▏                                          |  ETA: 0:11:37\u001b[39m\n",
      "      From worker 4:\t\u001b[34m  ϵ:     0.6647747460238371\u001b[39m\n",
      "      From worker 4:\t\u001b[34m  L:     3.1622776601683795\u001b[39m\n",
      "\u001b[32mTuning:   0%|▏                                          |  ETA: 0:10:57\u001b[39m\n",
      "      From worker 7:\t\u001b[34m  ϵ:     0.9615945353381966\u001b[39m\n",
      "      From worker 7:\t\u001b[34m  L:     3.1622776601683795\u001b[39m\n",
      "\u001b[32mTuning:   0%|▏                                          |  ETA: 0:11:04\u001b[39m\n",
      "      From worker 3:\t\u001b[34m  ϵ:     1.0802436288781234\u001b[39m\n",
      "      From worker 3:\t\u001b[34m  L:     3.1622776601683795\u001b[39m\n",
      "\u001b[32mTuning:   0%|▏                                          |  ETA: 0:11:37\u001b[39m\n",
      "      From worker 5:\t\n",
      "      From worker 5:\t\n",
      "\u001b[32mTuning:   1%|▍                                          |  ETA: 0:10:22\u001b[39m\n",
      "      From worker 4:\t\n",
      "      From worker 4:\t\n",
      "\u001b[32mTuning:   1%|▍                                          |  ETA: 0:10:19\u001b[39m\n",
      "      From worker 7:\t\n",
      "      From worker 7:\t\n",
      "\u001b[32mTuning:   1%|▍                                          |  ETA: 0:09:51\u001b[39m\n",
      "      From worker 6:\t\n",
      "      From worker 6:\t\n",
      "\u001b[32mTuning:   1%|▍                                          |  ETA: 0:11:22\u001b[39m\n",
      "      From worker 3:\t\n",
      "      From worker 3:\t\n",
      "\u001b[32mTuning:   1%|▍                                          |  ETA: 0:10:33\u001b[39m\n",
      "      From worker 2:\t\n",
      "      From worker 2:\t\n",
      "\u001b[32mTuning:   1%|▍                                          |  ETA: 0:10:24\u001b[39m\n",
      "      From worker 5:\t\n",
      "      From worker 5:\t\n",
      "\u001b[32mTuning:  95%|████████████████████████████████████████▉  |  ETA: 0:00:00\u001b[39m\n",
      "      From worker 6:\t\n",
      "      From worker 6:\t\n",
      "\u001b[32mTuning:  74%|███████████████████████████████▋           |  ETA: 0:00:03\u001b[39m\n",
      "      From worker 5:\t\n",
      "      From worker 5:\t\n",
      "\u001b[32mTuning: 100%|███████████████████████████████████████████| Time: 0:00:06\u001b[39m\n",
      "      From worker 5:\t\u001b[34m  ϵ:     0.41542089202750404\u001b[39m\n",
      "      From worker 4:\t\n",
      "      From worker 4:\t\n",
      "\u001b[32mTuning: 100%|███████████████████████████████████████████| Time: 0:00:06\u001b[39m\n",
      "      From worker 4:\t\u001b[34m  ϵ:     0.6053456003164789\u001b[39m\n",
      "      From worker 7:\t\n",
      "      From worker 7:\t\n",
      "\u001b[32mTuning: 100%|███████████████████████████████████████████| Time: 0:00:06\u001b[39m\n",
      "      From worker 7:\t\u001b[34m  ϵ:     0.2732964154436109\u001b[39m\n",
      "      From worker 6:\t\n",
      "      From worker 6:\t\n",
      "\u001b[32mTuning:  93%|████████████████████████████████████████   |  ETA: 0:00:01\u001b[39m\n",
      "      From worker 6:\t\n",
      "      From worker 6:\t\n",
      "\u001b[32mTuning: 100%|███████████████████████████████████████████| Time: 0:00:07\u001b[39m\n",
      "      From worker 6:\t\u001b[34m  ϵ:     0.25824846011713604\u001b[39m\n",
      "      From worker 3:\t\n",
      "      From worker 3:\t\n",
      "\u001b[32mTuning:  92%|███████████████████████████████████████▋   |  ETA: 0:00:01\u001b[39m\n",
      "      From worker 3:\t\n",
      "      From worker 3:\t\n",
      "\u001b[32mTuning: 100%|███████████████████████████████████████████| Time: 0:00:07\u001b[39m\n",
      "      From worker 3:\t\u001b[34m  ϵ:     0.7161818686699299\u001b[39m\n",
      "      From worker 2:\t\n",
      "      From worker 2:\t\n",
      "\u001b[32mTuning:  91%|███████████████████████████████████████▏   |  ETA: 0:00:01\u001b[39m\n",
      "      From worker 2:\t\n",
      "      From worker 2:\t\n",
      "\u001b[32mTuning: 100%|███████████████████████████████████████████| Time: 0:00:07\u001b[39m\n",
      "      From worker 2:\t\u001b[34m  ϵ:     0.5523311574397333\u001b[39m\n",
      "      From worker 2:\t\u001b[34m  L:     237.09718395307817\u001b[39m\n",
      "      From worker 2:\t\u001b[34m  dE/d:  0.00034826955914653014\u001b[39m\n"
     ]
    },
    {
     "name": "stderr",
     "output_type": "stream",
     "text": [
      "\u001b[32mSampling (6 processes)  17%|████▋                       |  ETA: 0:01:22\u001b[39m\n",
      "\u001b[32mSampling (6 processes)  33%|█████████▍                  |  ETA: 0:00:33\u001b[39m\n",
      "\u001b[32mSampling (6 processes)  50%|██████████████              |  ETA: 0:00:17\u001b[39m\n",
      "\u001b[32mSampling (6 processes)  67%|██████████████████▋         |  ETA: 0:00:08\u001b[39m\n",
      "\u001b[32mSampling (6 processes)  83%|███████████████████████▍    |  ETA: 0:00:03\u001b[39m\n",
      "\u001b[32mSampling (6 processes) 100%|████████████████████████████| Time: 0:00:16\u001b[39m\n",
      "\u001b[90mSampling (6 processes) 100%|████████████████████████████| Time: 0:00:16\u001b[39m\n"
     ]
    },
    {
     "data": {
      "text/plain": [
       "Chains MCMC chain (10000×11×6 Array{Float64, 3}):\n",
       "\n",
       "Iterations        = 1:1:10000\n",
       "Number of chains  = 6\n",
       "Samples per chain = 10000\n",
       "Wall duration     = 12.81 seconds\n",
       "Compute duration  = 71.97 seconds\n",
       "parameters        = μ, τ, θ[1], θ[2], θ[3], θ[4], θ[5], θ[6], θ[7], θ[8]\n",
       "internals         = lp\n",
       "\n",
       "Summary Statistics\n",
       " \u001b[1m parameters \u001b[0m \u001b[1m    mean \u001b[0m \u001b[1m     std \u001b[0m \u001b[1m    mcse \u001b[0m \u001b[1m  ess_bulk \u001b[0m \u001b[1m  ess_tail \u001b[0m \u001b[1m    rhat \u001b[0m \u001b[1m\u001b[0m ⋯\n",
       " \u001b[90m     Symbol \u001b[0m \u001b[90m Float64 \u001b[0m \u001b[90m Float64 \u001b[0m \u001b[90m Float64 \u001b[0m \u001b[90m   Float64 \u001b[0m \u001b[90m   Float64 \u001b[0m \u001b[90m Float64 \u001b[0m \u001b[90m\u001b[0m ⋯\n",
       "\n",
       "           μ    4.4216    3.2904    0.0744   1957.1529   3025.7585    1.0064   ⋯\n",
       "           τ    3.6927    3.1475    0.0997    580.7647    524.4950    1.0358   ⋯\n",
       "        θ[1]    6.1505    5.1471    0.1181   2089.2165   1986.0303    1.0048   ⋯\n",
       "        θ[2]    4.9676    4.1778    0.0835   2491.0533   3740.3898    1.0062   ⋯\n",
       "        θ[3]    3.9689    4.7155    0.1086   2002.9439   1857.0600    1.0052   ⋯\n",
       "        θ[4]    4.7539    4.2977    0.0892   2316.5325   3343.4999    1.0089   ⋯\n",
       "        θ[5]    3.6085    4.2307    0.0841   2505.0551   3619.3193    1.0071   ⋯\n",
       "        θ[6]    4.1235    4.4982    0.1002   2051.0004   2704.6617    1.0095   ⋯\n",
       "        θ[7]    6.2425    4.6562    0.1001   2194.7466   2813.6509    1.0034   ⋯\n",
       "        θ[8]    4.8589    5.2593    0.1132   2382.8869   3196.7267    1.0053   ⋯\n",
       "\u001b[36m                                                                1 column omitted\u001b[0m\n",
       "\n",
       "Quantiles\n",
       " \u001b[1m parameters \u001b[0m \u001b[1m    2.5% \u001b[0m \u001b[1m   25.0% \u001b[0m \u001b[1m   50.0% \u001b[0m \u001b[1m   75.0% \u001b[0m \u001b[1m   97.5% \u001b[0m\n",
       " \u001b[90m     Symbol \u001b[0m \u001b[90m Float64 \u001b[0m \u001b[90m Float64 \u001b[0m \u001b[90m Float64 \u001b[0m \u001b[90m Float64 \u001b[0m \u001b[90m Float64 \u001b[0m\n",
       "\n",
       "           μ   -2.0002    2.2002    4.4147    6.6804   10.6508\n",
       "           τ    0.3997    1.5096    2.7990    4.9107   12.0005\n",
       "        θ[1]   -2.2887    2.9589    5.6418    8.6846   18.1447\n",
       "        θ[2]   -3.0397    2.3345    4.8563    7.4766   13.5936\n",
       "        θ[3]   -6.2265    1.3209    4.1692    6.8739   12.6229\n",
       "        θ[4]   -3.4748    2.0317    4.6581    7.4355   13.6424\n",
       "        θ[5]   -5.4881    1.1513    3.8166    6.3384   11.3135\n",
       "        θ[6]   -5.2177    1.4071    4.2496    6.9583   12.7482\n",
       "        θ[7]   -1.6995    3.1534    5.8680    8.7948   17.0764\n",
       "        θ[8]   -5.0814    1.9062    4.7519    7.7567   15.1827\n"
      ]
     },
     "metadata": {},
     "output_type": "display_data"
    }
   ],
   "source": [
    "c3 = sample(schools(y, σ), externalsampler(mchmc),MCMCDistributed(), 10_000,6)"
   ]
  },
  {
   "cell_type": "code",
   "execution_count": 8,
   "metadata": {},
   "outputs": [
    {
     "name": "stderr",
     "output_type": "stream",
     "text": [
      "\u001b[32mSampling (6 processes)   0%|                            |  ETA: N/A\u001b[39m\n"
     ]
    },
    {
     "name": "stdout",
     "output_type": "stream",
     "text": [
      "      From worker 7:\t\u001b[36m\u001b[1m[ \u001b[22m\u001b[39m\u001b[36m\u001b[1mInfo: \u001b[22m\u001b[39mTuning eps ⏳\n",
      "      From worker 7:\t\u001b[36m\u001b[1m[ \u001b[22m\u001b[39m\u001b[36m\u001b[1mInfo: \u001b[22m\u001b[39mTuning L ⏳\n",
      "      From worker 7:\t\u001b[36m\u001b[1m[ \u001b[22m\u001b[39m\u001b[36m\u001b[1mInfo: \u001b[22m\u001b[39mTuning sigma ⏳\n",
      "      From worker 3:\t\u001b[36m\u001b[1m[ \u001b[22m\u001b[39m\u001b[36m\u001b[1mInfo: \u001b[22m\u001b[39mTuning eps ⏳\n",
      "      From worker 3:\t\u001b[36m\u001b[1m[ \u001b[22m\u001b[39m\u001b[36m\u001b[1mInfo: \u001b[22m\u001b[39mTuning L ⏳\n",
      "      From worker 3:\t\u001b[36m\u001b[1m[ \u001b[22m\u001b[39m\u001b[36m\u001b[1mInfo: \u001b[22m\u001b[39mTuning sigma ⏳\n",
      "      From worker 4:\t\u001b[36m\u001b[1m[ \u001b[22m\u001b[39m\u001b[36m\u001b[1mInfo: \u001b[22m\u001b[39mTuning eps ⏳\n",
      "      From worker 4:\t\u001b[36m\u001b[1m[ \u001b[22m\u001b[39m\u001b[36m\u001b[1mInfo: \u001b[22m\u001b[39mTuning L ⏳\n",
      "      From worker 4:\t\u001b[36m\u001b[1m[ \u001b[22m\u001b[39m\u001b[36m\u001b[1mInfo: \u001b[22m\u001b[39mTuning sigma ⏳\n",
      "      From worker 5:\t\u001b[36m\u001b[1m[ \u001b[22m\u001b[39m\u001b[36m\u001b[1mInfo: \u001b[22m\u001b[39mTuning eps ⏳\n",
      "      From worker 5:\t\u001b[36m\u001b[1m[ \u001b[22m\u001b[39m\u001b[36m\u001b[1mInfo: \u001b[22m\u001b[39mTuning L ⏳\n",
      "      From worker 5:\t\u001b[36m\u001b[1m[ \u001b[22m\u001b[39m\u001b[36m\u001b[1mInfo: \u001b[22m\u001b[39mTuning sigma ⏳\n",
      "      From worker 2:\t\u001b[36m\u001b[1m[ \u001b[22m\u001b[39m\u001b[36m\u001b[1mInfo: \u001b[22m\u001b[39mTuning eps ⏳\n",
      "      From worker 2:\t\u001b[36m\u001b[1m[ \u001b[22m\u001b[39m\u001b[36m\u001b[1mInfo: \u001b[22m\u001b[39mTuning L ⏳\n",
      "      From worker 2:\t\u001b[36m\u001b[1m[ \u001b[22m\u001b[39m\u001b[36m\u001b[1mInfo: \u001b[22m\u001b[39mTuning sigma ⏳\n",
      "      From worker 6:\t\u001b[36m\u001b[1m[ \u001b[22m\u001b[39m\u001b[36m\u001b[1mInfo: \u001b[22m\u001b[39mTuning eps ⏳\n",
      "      From worker 6:\t\u001b[36m\u001b[1m[ \u001b[22m\u001b[39m\u001b[36m\u001b[1mInfo: \u001b[22m\u001b[39mTuning L ⏳\n",
      "      From worker 6:\t\u001b[36m\u001b[1m[ \u001b[22m\u001b[39m\u001b[36m\u001b[1mInfo: \u001b[22m\u001b[39mTuning sigma ⏳\n",
      "\u001b[32mTuning:  30%|████████████▋                              |  ETA: 0:00:00\u001b[39m\n",
      "      From worker 6:\t\n",
      "      From worker 6:\t\n",
      "\u001b[32mTuning:  58%|█████████████████████████▏                 |  ETA: 0:00:00\u001b[39m\n",
      "      From worker 6:\t\n",
      "      From worker 6:\t\n",
      "\u001b[32mTuning:  76%|████████████████████████████████▌          |  ETA: 0:00:00\u001b[39m\n",
      "      From worker 6:\t\u001b[34m  ϵ:     2.103413018660891\u001b[39m\n",
      "      From worker 6:\t\u001b[34m  L:     758.0329403068532\u001b[39m\n",
      "\u001b[32mTuning:  90%|██████████████████████████████████████▉    |  ETA: 0:00:00\u001b[39m\n",
      "      From worker 5:\t\u001b[34m  ϵ:     1.9782912324641895\u001b[39m\n",
      "      From worker 5:\t\u001b[34m  L:     792.7825280480969\u001b[39m\n",
      "\u001b[32mTuning:  97%|█████████████████████████████████████████▉ |  ETA: 0:00:00\u001b[39m\n",
      "      From worker 6:\t\n",
      "      From worker 6:\t\n",
      "\u001b[32mTuning:  88%|█████████████████████████████████████▊     |  ETA: 0:00:00\u001b[39m\n",
      "      From worker 6:\t\u001b[34m  ϵ:     2.015700531184152\u001b[39m\n",
      "      From worker 6:\t\u001b[34m  L:     747.5327821771916\u001b[39m\n",
      "\u001b[32mTuning:  96%|█████████████████████████████████████████▏ |  ETA: 0:00:00\u001b[39m\n",
      "      From worker 7:\t\n",
      "      From worker 7:\t\n",
      "\u001b[32mTuning: 100%|███████████████████████████████████████████| Time: 0:00:00\u001b[39m\n",
      "      From worker 7:\t\u001b[34m  ϵ:     1.98415547019154\u001b[39m\n",
      "      From worker 7:\t\u001b[34m  L:     897.1394877793631\u001b[39m\n",
      "      From worker 7:\t\u001b[34m  dE/d:  -0.014054461637100247\u001b[39m\n",
      "\u001b[32mTuning:  95%|████████████████████████████████████████▊  |  ETA: 0:00:00\u001b[39m\n",
      "      From worker 4:\t\n",
      "      From worker 4:\t\n",
      "\u001b[32mTuning: 100%|███████████████████████████████████████████| Time: 0:00:00\u001b[39m\n",
      "      From worker 4:\t\u001b[34m  ϵ:     2.021305557524922\u001b[39m\n",
      "      From worker 5:\t\n",
      "      From worker 5:\t\n",
      "\u001b[32mTuning: 100%|███████████████████████████████████████████| Time: 0:00:00\u001b[39m\n",
      "      From worker 5:\t\u001b[34m  ϵ:     2.038253490021507\u001b[39m\n",
      "      From worker 2:\t\n",
      "      From worker 2:\t\n",
      "\u001b[32mTuning: 100%|███████████████████████████████████████████| Time: 0:00:00\u001b[39m\n",
      "      From worker 2:\t\u001b[34m  ϵ:     2.1359773519332412\u001b[39m\n",
      "      From worker 6:\t\n",
      "      From worker 6:\t\n",
      "\u001b[32mTuning:  97%|█████████████████████████████████████████▉ |  ETA: 0:00:00\u001b[39m\n",
      "      From worker 6:\t\n",
      "      From worker 6:\t\n",
      "\u001b[32mTuning: 100%|███████████████████████████████████████████| Time: 0:00:00\u001b[39m\n",
      "      From worker 6:\t\u001b[34m  ϵ:     2.1598737304150033\u001b[39m\n",
      "      From worker 6:\t\u001b[34m  L:     960.8336907681929\u001b[39m\n",
      "      From worker 6:\t\u001b[34m  dE/d:  0.054606177102827044\u001b[39m\n"
     ]
    },
    {
     "name": "stderr",
     "output_type": "stream",
     "text": [
      "\u001b[32mSampling (6 processes)  17%|████▋                       |  ETA: 0:00:26\u001b[39m\n",
      "\u001b[32mSampling (6 processes)  33%|█████████▍                  |  ETA: 0:00:10\u001b[39m\n",
      "\u001b[32mSampling (6 processes)  50%|██████████████              |  ETA: 0:00:05\u001b[39m\n",
      "\u001b[32mSampling (6 processes)  67%|██████████████████▋         |  ETA: 0:00:03\u001b[39m\n",
      "\u001b[32mSampling (6 processes)  83%|███████████████████████▍    |  ETA: 0:00:01\u001b[39m\n",
      "\u001b[32mSampling (6 processes) 100%|████████████████████████████| Time: 0:00:05\u001b[39m\n",
      "\u001b[90mSampling (6 processes) 100%|████████████████████████████| Time: 0:00:05\u001b[39m\n"
     ]
    },
    {
     "data": {
      "text/plain": [
       "Chains MCMC chain (10000×11×6 Array{Float64, 3}):\n",
       "\n",
       "Iterations        = 1:1:10000\n",
       "Number of chains  = 6\n",
       "Samples per chain = 10000\n",
       "Wall duration     = 3.52 seconds\n",
       "Compute duration  = 20.5 seconds\n",
       "parameters        = μ, τ, θ[1], θ[2], θ[3], θ[4], θ[5], θ[6], θ[7], θ[8]\n",
       "internals         = lp\n",
       "\n",
       "Summary Statistics\n",
       " \u001b[1m parameters \u001b[0m \u001b[1m    mean \u001b[0m \u001b[1m     std \u001b[0m \u001b[1m    mcse \u001b[0m \u001b[1m   ess_bulk \u001b[0m \u001b[1m   ess_tail \u001b[0m \u001b[1m    rhat\u001b[0m ⋯\n",
       " \u001b[90m     Symbol \u001b[0m \u001b[90m Float64 \u001b[0m \u001b[90m Float64 \u001b[0m \u001b[90m Float64 \u001b[0m \u001b[90m    Float64 \u001b[0m \u001b[90m    Float64 \u001b[0m \u001b[90m Float64\u001b[0m ⋯\n",
       "\n",
       "           μ    4.4106    3.3670    0.0234   20798.3977   26653.5281    1.0005 ⋯\n",
       "           τ   -0.0534    5.0446    0.0396   17438.1629   18384.3757    1.0011 ⋯\n",
       "        θ[1]   -0.0048    1.0557    0.0070   22920.1205   29995.9002    1.0009 ⋯\n",
       "        θ[2]   -0.0029    0.9270    0.0063   21646.7270   27388.0114    1.0043 ⋯\n",
       "        θ[3]    0.0001    1.0121    0.0070   21184.3020   29160.8326    1.0081 ⋯\n",
       "        θ[4]   -0.0002    0.9290    0.0067   19082.7026   25180.4886    1.0023 ⋯\n",
       "        θ[5]   -0.0006    0.9406    0.0066   20493.2719   26784.4345    1.0016 ⋯\n",
       "        θ[6]    0.0000    0.9266    0.0063   21443.5277   27403.6557    1.0020 ⋯\n",
       "        θ[7]   -0.0049    1.0377    0.0069   22662.3985   30753.8745    1.0008 ⋯\n",
       "        θ[8]    0.0001    1.0203    0.0070   21220.8510   30165.5493    1.0071 ⋯\n",
       "\u001b[36m                                                                1 column omitted\u001b[0m\n",
       "\n",
       "Quantiles\n",
       " \u001b[1m parameters \u001b[0m \u001b[1m     2.5% \u001b[0m \u001b[1m   25.0% \u001b[0m \u001b[1m   50.0% \u001b[0m \u001b[1m   75.0% \u001b[0m \u001b[1m   97.5% \u001b[0m\n",
       " \u001b[90m     Symbol \u001b[0m \u001b[90m  Float64 \u001b[0m \u001b[90m Float64 \u001b[0m \u001b[90m Float64 \u001b[0m \u001b[90m Float64 \u001b[0m \u001b[90m Float64 \u001b[0m\n",
       "\n",
       "           μ    -2.2399    2.1728    4.4156    6.6725   10.9884\n",
       "           τ   -10.3033   -3.0290   -0.0264    2.9817   10.0618\n",
       "        θ[1]    -2.0583   -0.7258   -0.0048    0.7083    2.0580\n",
       "        θ[2]    -1.8395   -0.6175   -0.0034    0.6056    1.8414\n",
       "        θ[3]    -2.0020   -0.6670    0.0018    0.6706    2.0062\n",
       "        θ[4]    -1.8427   -0.6069   -0.0015    0.6138    1.8453\n",
       "        θ[5]    -1.8637   -0.6185   -0.0028    0.6210    1.8586\n",
       "        θ[6]    -1.8343   -0.6151    0.0026    0.6132    1.8246\n",
       "        θ[7]    -2.0302   -0.7120   -0.0069    0.7043    2.0186\n",
       "        θ[8]    -2.0057   -0.6801   -0.0013    0.6889    1.9975\n"
      ]
     },
     "metadata": {},
     "output_type": "display_data"
    }
   ],
   "source": [
    "c4 = sample(school_reparam(y, σ), externalsampler(mchmc),MCMCDistributed(), 10_000,6)"
   ]
  },
  {
   "cell_type": "code",
   "execution_count": 9,
   "metadata": {},
   "outputs": [],
   "source": [
    "using StatsPlots"
   ]
  },
  {
   "cell_type": "code",
   "execution_count": 14,
   "metadata": {},
   "outputs": [],
   "source": [
    "# plot(c1)"
   ]
  },
  {
   "cell_type": "code",
   "execution_count": 15,
   "metadata": {},
   "outputs": [],
   "source": [
    "# plot(c2)"
   ]
  },
  {
   "cell_type": "code",
   "execution_count": 16,
   "metadata": {},
   "outputs": [],
   "source": [
    "# plot(c3)"
   ]
  },
  {
   "cell_type": "code",
   "execution_count": 17,
   "metadata": {},
   "outputs": [],
   "source": [
    "# plot(c4)"
   ]
  },
  {
   "cell_type": "code",
   "execution_count": null,
   "metadata": {},
   "outputs": [],
   "source": [
    "@everywhere begin\n",
    "\tusing AdvancedMH\n",
    "\trwmh = AdvancedMH.RWMH(10)\n",
    "end"
   ]
  },
  {
   "cell_type": "code",
   "execution_count": null,
   "metadata": {},
   "outputs": [],
   "source": [
    "school"
   ]
  },
  {
   "cell_type": "code",
   "execution_count": null,
   "metadata": {},
   "outputs": [],
   "source": [
    "c5 = sample(schools(y, σ), externalsampler(rwmh), MCMCDistributed(), 150_000, 6)"
   ]
  },
  {
   "cell_type": "code",
   "execution_count": null,
   "metadata": {},
   "outputs": [],
   "source": [
    "plot(c5)"
   ]
  },
  {
   "cell_type": "code",
   "execution_count": null,
   "metadata": {},
   "outputs": [],
   "source": [
    "c6 = sample(school_reparam(y, σ), externalsampler(rwmh), MCMCDistributed(), 100_000, 6)"
   ]
  },
  {
   "cell_type": "code",
   "execution_count": null,
   "metadata": {},
   "outputs": [],
   "source": [
    "plot(c6)    "
   ]
  },
  {
   "cell_type": "code",
   "execution_count": null,
   "metadata": {},
   "outputs": [],
   "source": []
  }
 ],
 "metadata": {
  "kernelspec": {
   "display_name": "Julia 1.10.4",
   "language": "julia",
   "name": "julia-1.10"
  },
  "language_info": {
   "file_extension": ".jl",
   "mimetype": "application/julia",
   "name": "julia",
   "version": "1.10.4"
  }
 },
 "nbformat": 4,
 "nbformat_minor": 2
}
