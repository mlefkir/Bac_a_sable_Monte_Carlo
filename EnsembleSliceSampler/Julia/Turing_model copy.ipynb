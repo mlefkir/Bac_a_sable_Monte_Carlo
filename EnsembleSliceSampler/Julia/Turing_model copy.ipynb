{
 "cells": [
  {
   "cell_type": "code",
   "execution_count": 1,
   "metadata": {},
   "outputs": [
    {
     "data": {
      "text/plain": [
       "move (generic function with 1 method)"
      ]
     },
     "metadata": {},
     "output_type": "display_data"
    }
   ],
   "source": [
    "using DelimitedFiles\n",
    "using Random\n",
    "using Turing\n",
    "using LinearAlgebra\n",
    "using Distributions\n",
    "\n",
    "data = readdlm(\"../../data/data.txt\")\n",
    "t, y, yerr = data[:, 1], data[:, 2], data[:, 3]\n",
    "\n",
    "include(\"EnSS_code_opti.jl\")"
   ]
  },
  {
   "cell_type": "code",
   "execution_count": 2,
   "metadata": {},
   "outputs": [
    {
     "data": {
      "text/plain": [
       "Model{typeof(school_reparam), (:y, :σ), (), (), Tuple{Vector{Float64}, Vector{Float64}}, Tuple{}, DynamicPPL.DefaultContext}(school_reparam, (y = [28.0, 8.0, -3.0, 7.0, -1.0, 1.0, 18.0, 12.0], σ = [15.0, 10.0, 16.0, 11.0, 9.0, 11.0, 10.0, 18.0]), NamedTuple(), DynamicPPL.DefaultContext())"
      ]
     },
     "metadata": {},
     "output_type": "display_data"
    }
   ],
   "source": [
    "\n",
    "n_schools = 8\n",
    "y = [28.0, 8.0, -3.0, 7.0, -1.0, 1.0, 18.0, 12.0] # estimated treatment effects\n",
    "σ = [15.0, 10.0, 16.0, 11.0, 9.0, 11.0, 10.0, 18.0] # standard error of the effect estimate\n",
    "# @model function schools(y, σ)\n",
    "#     μ ~ Normal(0, 5)\n",
    "#     τ ~ truncated(Cauchy(0, 5), lower = 0)\n",
    "#     θ ~ filldist(Normal(μ, τ), n_schools)\n",
    "#     for i in 1:n_schools\n",
    "#         y[i] ~ Normal(θ[i], σ[i])\n",
    "#     end\n",
    "# end\n",
    "\n",
    "@model function school_reparam(y, σ)\n",
    "    μ ~ Normal(0, 5)\n",
    "    τ ~ truncated(Cauchy(0, 5), lower = 0)\n",
    "    θ ~ filldist(Normal(0, 1), n_schools)\n",
    "    # y .~ ForEach(μ .+ τ .* θ, σ)\n",
    "    for i in 1:n_schools\n",
    "        y[i] ~ Normal(μ + τ * θ[i], σ[i])\n",
    "    end\n",
    "end\n",
    "mymod = school_reparam(y, σ)"
   ]
  },
  {
   "cell_type": "code",
   "execution_count": 3,
   "metadata": {},
   "outputs": [
    {
     "data": {
      "text/plain": [
       "EnSS{(), EnsembleSliceSampler{Float64, Int64}}(EnsembleSliceSampler{Float64, Int64}(1.0, 50, 50, 10000))"
      ]
     },
     "metadata": {},
     "output_type": "display_data"
    }
   ],
   "source": [
    "# fun(x,α,β,γ) = @. α * x^2 + β * x + γ\n",
    "# x = 0.0:0.5:15.0\n",
    "\n",
    "# @model function InferenceModel(y, t)\n",
    "# \tα ~ Normal(2, 1)\n",
    "# \tβ ~ Normal(0, 1)\n",
    "# \tγ ~ Normal(-2, 1)\n",
    "# \treturn y ~ MvNormal(fun(t, α, β, γ), I)\n",
    "# end\n",
    "\n",
    "# mymod = InferenceModel(y, t)\n",
    "spl = EnSS(50)"
   ]
  },
  {
   "cell_type": "code",
   "execution_count": 4,
   "metadata": {},
   "outputs": [
    {
     "name": "stderr",
     "output_type": "stream",
     "text": [
      "\u001b[32mSampling   0%|                                          |  ETA: N/A\u001b[39m\n",
      "\u001b[32mSampling   0%|▎                                         |  ETA: 0:42:02\u001b[39m\n",
      "\u001b[32mSampling   1%|▍                                         |  ETA: 0:22:42\u001b[39m\n",
      "\u001b[32mSampling   2%|▋                                         |  ETA: 0:16:06\u001b[39m\n",
      "\u001b[32mSampling   2%|▉                                         |  ETA: 0:12:50\u001b[39m\n",
      "\u001b[32mSampling   2%|█                                         |  ETA: 0:11:02\u001b[39m\n",
      "\u001b[32mSampling   3%|█▎                                        |  ETA: 0:09:38\u001b[39m\n",
      "\u001b[32mSampling   4%|█▌                                        |  ETA: 0:08:42\u001b[39m\n",
      "\u001b[32mSampling   4%|█▋                                        |  ETA: 0:07:57\u001b[39m\n",
      "\u001b[32mSampling   4%|█▉                                        |  ETA: 0:07:21\u001b[39m\n",
      "\u001b[32mSampling   5%|██▏                                       |  ETA: 0:06:52\u001b[39m\n",
      "\u001b[32mSampling   6%|██▎                                       |  ETA: 0:06:29\u001b[39m\n",
      "\u001b[32mSampling   6%|██▌                                       |  ETA: 0:06:09\u001b[39m\n",
      "\u001b[32mSampling   6%|██▊                                       |  ETA: 0:05:53\u001b[39m\n",
      "\u001b[32mSampling   7%|███                                       |  ETA: 0:05:38\u001b[39m\n",
      "\u001b[32mSampling   8%|███▏                                      |  ETA: 0:05:25\u001b[39m\n",
      "\u001b[32mSampling   8%|███▍                                      |  ETA: 0:05:14\u001b[39m\n",
      "\u001b[32mSampling   8%|███▋                                      |  ETA: 0:05:03\u001b[39m\n",
      "\u001b[32mSampling   9%|███▊                                      |  ETA: 0:04:54\u001b[39m\n",
      "\u001b[32mSampling  10%|████                                      |  ETA: 0:04:46\u001b[39m\n",
      "\u001b[32mSampling  10%|████▎                                     |  ETA: 0:04:38\u001b[39m\n",
      "\u001b[32mSampling  10%|████▍                                     |  ETA: 0:04:31\u001b[39m\n",
      "\u001b[32mSampling  11%|████▋                                     |  ETA: 0:04:25\u001b[39m\n",
      "\u001b[32mSampling  12%|████▉                                     |  ETA: 0:04:19\u001b[39m\n",
      "\u001b[32mSampling  12%|█████                                     |  ETA: 0:04:13\u001b[39m\n",
      "\u001b[32mSampling  12%|█████▎                                    |  ETA: 0:04:08\u001b[39m\n",
      "\u001b[32mSampling  13%|█████▌                                    |  ETA: 0:04:03\u001b[39m\n",
      "\u001b[32mSampling  14%|█████▋                                    |  ETA: 0:03:59\u001b[39m\n",
      "\u001b[32mSampling  14%|█████▉                                    |  ETA: 0:03:55\u001b[39m\n",
      "\u001b[32mSampling  14%|██████▏                                   |  ETA: 0:03:51\u001b[39m\n",
      "\u001b[32mSampling  15%|██████▎                                   |  ETA: 0:03:47\u001b[39m\n",
      "\u001b[32mSampling  16%|██████▌                                   |  ETA: 0:03:43\u001b[39m\n",
      "\u001b[32mSampling  16%|██████▊                                   |  ETA: 0:03:40\u001b[39m\n",
      "\u001b[32mSampling  16%|██████▉                                   |  ETA: 0:03:37\u001b[39m\n",
      "\u001b[32mSampling  17%|███████▏                                  |  ETA: 0:03:38\u001b[39m\n",
      "\u001b[32mSampling  18%|███████▍                                  |  ETA: 0:03:35\u001b[39m\n",
      "\u001b[32mSampling  18%|███████▌                                  |  ETA: 0:03:32\u001b[39m\n",
      "\u001b[32mSampling  18%|███████▊                                  |  ETA: 0:03:30\u001b[39m\n",
      "\u001b[32mSampling  19%|████████                                  |  ETA: 0:03:27\u001b[39m\n",
      "\u001b[32mSampling  20%|████████▎                                 |  ETA: 0:03:24\u001b[39m\n",
      "\u001b[32mSampling  20%|████████▍                                 |  ETA: 0:03:22\u001b[39m\n",
      "\u001b[32mSampling  20%|████████▋                                 |  ETA: 0:03:19\u001b[39m\n",
      "\u001b[32mSampling  21%|████████▉                                 |  ETA: 0:03:17\u001b[39m\n",
      "\u001b[32mSampling  22%|█████████                                 |  ETA: 0:03:14\u001b[39m\n",
      "\u001b[32mSampling  22%|█████████▎                                |  ETA: 0:03:12\u001b[39m\n",
      "\u001b[32mSampling  22%|█████████▌                                |  ETA: 0:03:10\u001b[39m\n",
      "\u001b[32mSampling  23%|█████████▋                                |  ETA: 0:03:08\u001b[39m\n",
      "\u001b[32mSampling  24%|█████████▉                                |  ETA: 0:03:06\u001b[39m\n",
      "\u001b[32mSampling  24%|██████████▏                               |  ETA: 0:03:04\u001b[39m\n",
      "\u001b[32mSampling  24%|██████████▎                               |  ETA: 0:03:01\u001b[39m\n",
      "\u001b[32mSampling  25%|██████████▌                               |  ETA: 0:02:59\u001b[39m\n",
      "\u001b[32mSampling  26%|██████████▊                               |  ETA: 0:02:57\u001b[39m\n",
      "\u001b[32mSampling  26%|██████████▉                               |  ETA: 0:02:56\u001b[39m\n",
      "\u001b[32mSampling  26%|███████████▏                              |  ETA: 0:02:54\u001b[39m\n",
      "\u001b[32mSampling  27%|███████████▍                              |  ETA: 0:02:52\u001b[39m\n",
      "\u001b[90mSampling 100%|██████████████████████████████████████████| Time: 0:01:04\u001b[39m\n"
     ]
    },
    {
     "ename": "InterruptException",
     "evalue": "InterruptException:",
     "output_type": "error",
     "traceback": [
      "InterruptException:\n",
      "\n",
      "Stacktrace:\n",
      "  [1] Accessors.IndexLens(indices::Tuple{Int64})\n",
      "    @ Accessors ~/.julia/packages/Accessors/hSII3/src/optics.jl:410\n",
      "  [2] macro expansion\n",
      "    @ ~/.julia/packages/DynamicPPL/DvdZw/src/compiler.jl:579 [inlined]\n",
      "  [3] school_reparam(__model__::Model{typeof(school_reparam), (:y, :σ), (), (), Tuple{Vector{Float64}, Vector{Float64}}, Tuple{}, DynamicPPL.DefaultContext}, __varinfo__::DynamicPPL.TypedVarInfo{@NamedTuple{μ::DynamicPPL.Metadata{Dict{AbstractPPL.VarName{:μ, typeof(identity)}, Int64}, Vector{Normal{Float64}}, Vector{AbstractPPL.VarName{:μ, typeof(identity)}}, Vector{Float64}, Vector{Set{DynamicPPL.Selector}}}, τ::DynamicPPL.Metadata{Dict{AbstractPPL.VarName{:τ, typeof(identity)}, Int64}, Vector{Truncated{Cauchy{Float64}, Continuous, Float64, Float64, Nothing}}, Vector{AbstractPPL.VarName{:τ, typeof(identity)}}, Vector{Float64}, Vector{Set{DynamicPPL.Selector}}}, θ::DynamicPPL.Metadata{Dict{AbstractPPL.VarName{:θ, typeof(identity)}, Int64}, Vector{DistributionsAD.TuringScalMvNormal{Vector{Float64}, Float64}}, Vector{AbstractPPL.VarName{:θ, typeof(identity)}}, Vector{Float64}, Vector{Set{DynamicPPL.Selector}}}}, Float64}, __context__::DynamicPPL.DefaultContext, y::Vector{Float64}, σ::Vector{Float64})\n",
      "    @ Main ~/github/Bac_a_sable_Monte_Carlo/EnsembleSliceSampler/Julia/jl_notebook_cell_df34fa98e69747e1a8f8a730347b8e2f_W1sZmlsZQ==.jl:19\n",
      "  [4] _evaluate!!\n",
      "    @ ~/.julia/packages/DynamicPPL/DvdZw/src/model.jl:973 [inlined]\n",
      "  [5] evaluate_threadunsafe!!\n",
      "    @ ~/.julia/packages/DynamicPPL/DvdZw/src/model.jl:946 [inlined]\n",
      "  [6] evaluate!!\n",
      "    @ ~/.julia/packages/DynamicPPL/DvdZw/src/model.jl:894 [inlined]\n",
      "  [7] logdensity\n",
      "    @ ~/.julia/packages/DynamicPPL/DvdZw/src/logdensityfunction.jl:140 [inlined]\n",
      "  [8] Fix1\n",
      "    @ ./operators.jl:1118 [inlined]\n",
      "  [9] logdensity\n",
      "    @ ~/.julia/packages/AdvancedMH/yFKzJ/src/AdvancedMH.jl:72 [inlined]\n",
      " [10] logdens\n",
      "    @ ~/github/Bac_a_sable_Monte_Carlo/EnsembleSliceSampler/Julia/EnSS_code_opti.jl:214 [inlined]\n",
      " [11] (::var\"#31#39\"{var\"#logdens#34\"{DensityModel{Base.Fix1{typeof(LogDensityProblems.logdensity), LogDensityFunction{DynamicPPL.TypedVarInfo{@NamedTuple{μ::DynamicPPL.Metadata{Dict{AbstractPPL.VarName{:μ, typeof(identity)}, Int64}, Vector{Normal{Float64}}, Vector{AbstractPPL.VarName{:μ, typeof(identity)}}, Vector{Float64}, Vector{Set{DynamicPPL.Selector}}}, τ::DynamicPPL.Metadata{Dict{AbstractPPL.VarName{:τ, typeof(identity)}, Int64}, Vector{Truncated{Cauchy{Float64}, Continuous, Float64, Float64, Nothing}}, Vector{AbstractPPL.VarName{:τ, typeof(identity)}}, Vector{Float64}, Vector{Set{DynamicPPL.Selector}}}, θ::DynamicPPL.Metadata{Dict{AbstractPPL.VarName{:θ, typeof(identity)}, Int64}, Vector{DistributionsAD.TuringScalMvNormal{Vector{Float64}, Float64}}, Vector{AbstractPPL.VarName{:θ, typeof(identity)}}, Vector{Float64}, Vector{Set{DynamicPPL.Selector}}}}, Float64}, Model{typeof(school_reparam), (:y, :σ), (), (), Tuple{Vector{Float64}, Vector{Float64}}, Tuple{}, DynamicPPL.DefaultContext}, Nothing}}}}, Matrix{Float64}, Vector{Bool}})(i::Int64)\n",
      "    @ Main ./none:0\n",
      " [12] iterate\n",
      "    @ ./generator.jl:47 [inlined]\n",
      " [13] collect_to!\n",
      "    @ ./array.jl:892 [inlined]\n",
      " [14] collect_to_with_first!\n",
      "    @ ./array.jl:870 [inlined]\n",
      " [15] collect(itr::Base.Generator{UnitRange{Int64}, var\"#31#39\"{var\"#logdens#34\"{DensityModel{Base.Fix1{typeof(LogDensityProblems.logdensity), LogDensityFunction{DynamicPPL.TypedVarInfo{@NamedTuple{μ::DynamicPPL.Metadata{Dict{AbstractPPL.VarName{:μ, typeof(identity)}, Int64}, Vector{Normal{Float64}}, Vector{AbstractPPL.VarName{:μ, typeof(identity)}}, Vector{Float64}, Vector{Set{DynamicPPL.Selector}}}, τ::DynamicPPL.Metadata{Dict{AbstractPPL.VarName{:τ, typeof(identity)}, Int64}, Vector{Truncated{Cauchy{Float64}, Continuous, Float64, Float64, Nothing}}, Vector{AbstractPPL.VarName{:τ, typeof(identity)}}, Vector{Float64}, Vector{Set{DynamicPPL.Selector}}}, θ::DynamicPPL.Metadata{Dict{AbstractPPL.VarName{:θ, typeof(identity)}, Int64}, Vector{DistributionsAD.TuringScalMvNormal{Vector{Float64}, Float64}}, Vector{AbstractPPL.VarName{:θ, typeof(identity)}}, Vector{Float64}, Vector{Set{DynamicPPL.Selector}}}}, Float64}, Model{typeof(school_reparam), (:y, :σ), (), (), Tuple{Vector{Float64}, Vector{Float64}}, Tuple{}, DynamicPPL.DefaultContext}, Nothing}}}}, Matrix{Float64}, Vector{Bool}}})\n",
      "    @ Base ./array.jl:844\n",
      " [16] propose(rng::MersenneTwister, spl::EnsembleSliceSampler{Float64, Int64}, model::DensityModel{Base.Fix1{typeof(LogDensityProblems.logdensity), LogDensityFunction{DynamicPPL.TypedVarInfo{@NamedTuple{μ::DynamicPPL.Metadata{Dict{AbstractPPL.VarName{:μ, typeof(identity)}, Int64}, Vector{Normal{Float64}}, Vector{AbstractPPL.VarName{:μ, typeof(identity)}}, Vector{Float64}, Vector{Set{DynamicPPL.Selector}}}, τ::DynamicPPL.Metadata{Dict{AbstractPPL.VarName{:τ, typeof(identity)}, Int64}, Vector{Truncated{Cauchy{Float64}, Continuous, Float64, Float64, Nothing}}, Vector{AbstractPPL.VarName{:τ, typeof(identity)}}, Vector{Float64}, Vector{Set{DynamicPPL.Selector}}}, θ::DynamicPPL.Metadata{Dict{AbstractPPL.VarName{:θ, typeof(identity)}, Int64}, Vector{DistributionsAD.TuringScalMvNormal{Vector{Float64}, Float64}}, Vector{AbstractPPL.VarName{:θ, typeof(identity)}}, Vector{Float64}, Vector{Set{DynamicPPL.Selector}}}}, Float64}, Model{typeof(school_reparam), (:y, :σ), (), (), Tuple{Vector{Float64}, Vector{Float64}}, Tuple{}, DynamicPPL.DefaultContext}, Nothing}}}, walkers_t::Vector{Transition{Vector{Float64}, Float64}})\n",
      "    @ Main ~/github/Bac_a_sable_Monte_Carlo/EnsembleSliceSampler/Julia/EnSS_code_opti.jl:305\n",
      " [17] #step#26\n",
      "    @ ~/github/Bac_a_sable_Monte_Carlo/EnsembleSliceSampler/Julia/EnSS_code_opti.jl:191 [inlined]\n",
      " [18] step(rng::MersenneTwister, model::DensityModel{Base.Fix1{typeof(LogDensityProblems.logdensity), LogDensityFunction{DynamicPPL.TypedVarInfo{@NamedTuple{μ::DynamicPPL.Metadata{Dict{AbstractPPL.VarName{:μ, typeof(identity)}, Int64}, Vector{Normal{Float64}}, Vector{AbstractPPL.VarName{:μ, typeof(identity)}}, Vector{Float64}, Vector{Set{DynamicPPL.Selector}}}, τ::DynamicPPL.Metadata{Dict{AbstractPPL.VarName{:τ, typeof(identity)}, Int64}, Vector{Truncated{Cauchy{Float64}, Continuous, Float64, Float64, Nothing}}, Vector{AbstractPPL.VarName{:τ, typeof(identity)}}, Vector{Float64}, Vector{Set{DynamicPPL.Selector}}}, θ::DynamicPPL.Metadata{Dict{AbstractPPL.VarName{:θ, typeof(identity)}, Int64}, Vector{DistributionsAD.TuringScalMvNormal{Vector{Float64}, Float64}}, Vector{AbstractPPL.VarName{:θ, typeof(identity)}}, Vector{Float64}, Vector{Set{DynamicPPL.Selector}}}}, Float64}, Model{typeof(school_reparam), (:y, :σ), (), (), Tuple{Vector{Float64}, Vector{Float64}}, Tuple{}, DynamicPPL.DefaultContext}, Nothing}}}, spl::EnsembleSliceSampler{Float64, Int64}, params_prev::Vector{Transition{Vector{Float64}, Float64}})\n",
      "    @ Main ~/github/Bac_a_sable_Monte_Carlo/EnsembleSliceSampler/Julia/EnSS_code_opti.jl:185\n",
      " [19] step(rng::MersenneTwister, model::Model{typeof(school_reparam), (:y, :σ), (), (), Tuple{Vector{Float64}, Vector{Float64}}, Tuple{}, DynamicPPL.DefaultContext}, spl::Sampler{EnSS{(), EnsembleSliceSampler{Float64, Int64}}}, state::EnSSState{DynamicPPL.TypedVarInfo{@NamedTuple{μ::DynamicPPL.Metadata{Dict{AbstractPPL.VarName{:μ, typeof(identity)}, Int64}, Vector{Normal{Float64}}, Vector{AbstractPPL.VarName{:μ, typeof(identity)}}, Vector{Float64}, Vector{Set{DynamicPPL.Selector}}}, τ::DynamicPPL.Metadata{Dict{AbstractPPL.VarName{:τ, typeof(identity)}, Int64}, Vector{Truncated{Cauchy{Float64}, Continuous, Float64, Float64, Nothing}}, Vector{AbstractPPL.VarName{:τ, typeof(identity)}}, Vector{Float64}, Vector{Set{DynamicPPL.Selector}}}, θ::DynamicPPL.Metadata{Dict{AbstractPPL.VarName{:θ, typeof(identity)}, Int64}, Vector{DistributionsAD.TuringScalMvNormal{Vector{Float64}, Float64}}, Vector{AbstractPPL.VarName{:θ, typeof(identity)}}, Vector{Float64}, Vector{Set{DynamicPPL.Selector}}}}, Float64}, Vector{Transition{Vector{Float64}, Float64}}}; kwargs::@Kwargs{})\n",
      "    @ Main ~/github/Bac_a_sable_Monte_Carlo/EnsembleSliceSampler/Julia/EnSS_code_opti.jl:97\n",
      " [20] step(rng::MersenneTwister, model::Model{typeof(school_reparam), (:y, :σ), (), (), Tuple{Vector{Float64}, Vector{Float64}}, Tuple{}, DynamicPPL.DefaultContext}, spl::Sampler{EnSS{(), EnsembleSliceSampler{Float64, Int64}}}, state::EnSSState{DynamicPPL.TypedVarInfo{@NamedTuple{μ::DynamicPPL.Metadata{Dict{AbstractPPL.VarName{:μ, typeof(identity)}, Int64}, Vector{Normal{Float64}}, Vector{AbstractPPL.VarName{:μ, typeof(identity)}}, Vector{Float64}, Vector{Set{DynamicPPL.Selector}}}, τ::DynamicPPL.Metadata{Dict{AbstractPPL.VarName{:τ, typeof(identity)}, Int64}, Vector{Truncated{Cauchy{Float64}, Continuous, Float64, Float64, Nothing}}, Vector{AbstractPPL.VarName{:τ, typeof(identity)}}, Vector{Float64}, Vector{Set{DynamicPPL.Selector}}}, θ::DynamicPPL.Metadata{Dict{AbstractPPL.VarName{:θ, typeof(identity)}, Int64}, Vector{DistributionsAD.TuringScalMvNormal{Vector{Float64}, Float64}}, Vector{AbstractPPL.VarName{:θ, typeof(identity)}}, Vector{Float64}, Vector{Set{DynamicPPL.Selector}}}}, Float64}, Vector{Transition{Vector{Float64}, Float64}}})\n",
      "    @ Main ~/github/Bac_a_sable_Monte_Carlo/EnsembleSliceSampler/Julia/EnSS_code_opti.jl:88\n",
      " [21] macro expansion\n",
      "    @ ~/.julia/packages/AbstractMCMC/YrmkI/src/sample.jl:176 [inlined]\n",
      " [22] macro expansion\n",
      "    @ ~/.julia/packages/ProgressLogging/6KXlp/src/ProgressLogging.jl:328 [inlined]\n",
      " [23] (::AbstractMCMC.var\"#22#23\"{Bool, String, Nothing, Int64, Int64, Nothing, @Kwargs{}, MersenneTwister, Model{typeof(school_reparam), (:y, :σ), (), (), Tuple{Vector{Float64}, Vector{Float64}}, Tuple{}, DynamicPPL.DefaultContext}, Sampler{EnSS{(), EnsembleSliceSampler{Float64, Int64}}}, Int64, Int64})()\n",
      "    @ AbstractMCMC ~/.julia/packages/AbstractMCMC/YrmkI/src/logging.jl:12\n",
      " [24] with_logstate(f::Function, logstate::Any)\n",
      "    @ Base.CoreLogging ./logging.jl:515\n",
      " [25] with_logger(f::Function, logger::LoggingExtras.TeeLogger{Tuple{LoggingExtras.EarlyFilteredLogger{TerminalLoggers.TerminalLogger, AbstractMCMC.var\"#1#3\"{Module}}, LoggingExtras.EarlyFilteredLogger{Base.CoreLogging.SimpleLogger, AbstractMCMC.var\"#2#4\"{Module}}}})\n",
      "    @ Base.CoreLogging ./logging.jl:627\n",
      " [26] with_progresslogger(f::Function, _module::Module, logger::Base.CoreLogging.SimpleLogger)\n",
      "    @ AbstractMCMC ~/.julia/packages/AbstractMCMC/YrmkI/src/logging.jl:36\n",
      " [27] macro expansion\n",
      "    @ ~/.julia/packages/AbstractMCMC/YrmkI/src/logging.jl:11 [inlined]\n",
      " [28] mcmcsample(rng::MersenneTwister, model::Model{typeof(school_reparam), (:y, :σ), (), (), Tuple{Vector{Float64}, Vector{Float64}}, Tuple{}, DynamicPPL.DefaultContext}, sampler::Sampler{EnSS{(), EnsembleSliceSampler{Float64, Int64}}}, N::Int64; progress::Bool, progressname::String, callback::Nothing, discard_initial::Int64, thinning::Int64, chain_type::Type, initial_state::Nothing, kwargs::@Kwargs{})\n",
      "    @ AbstractMCMC ~/.julia/packages/AbstractMCMC/YrmkI/src/sample.jl:120\n",
      " [29] sample(rng::MersenneTwister, model::Model{typeof(school_reparam), (:y, :σ), (), (), Tuple{Vector{Float64}, Vector{Float64}}, Tuple{}, DynamicPPL.DefaultContext}, sampler::Sampler{EnSS{(), EnsembleSliceSampler{Float64, Int64}}}, N::Int64; chain_type::Type, resume_from::Nothing, initial_state::Nothing, kwargs::@Kwargs{progress::Bool})\n",
      "    @ DynamicPPL ~/.julia/packages/DynamicPPL/DvdZw/src/sampler.jl:93\n",
      " [30] sample\n",
      "    @ ~/.julia/packages/DynamicPPL/DvdZw/src/sampler.jl:83 [inlined]\n",
      " [31] #sample#4\n",
      "    @ ~/.julia/packages/Turing/r3Hmj/src/mcmc/Inference.jl:274 [inlined]\n",
      " [32] top-level scope\n",
      "    @ ~/github/Bac_a_sable_Monte_Carlo/EnsembleSliceSampler/Julia/jl_notebook_cell_df34fa98e69747e1a8f8a730347b8e2f_W3sZmlsZQ==.jl:1"
     ]
    }
   ],
   "source": [
    "rng = Random.MersenneTwister(0)\n",
    "chain = sample(rng,mymod, spl, 20_000,progress=true);"
   ]
  },
  {
   "cell_type": "code",
   "execution_count": 5,
   "metadata": {},
   "outputs": [
    {
     "ename": "UndefVarError",
     "evalue": "UndefVarError: `chain` not defined",
     "output_type": "error",
     "traceback": [
      "UndefVarError: `chain` not defined\n"
     ]
    }
   ],
   "source": [
    "chain"
   ]
  },
  {
   "cell_type": "code",
   "execution_count": null,
   "metadata": {},
   "outputs": [],
   "source": []
  }
 ],
 "metadata": {
  "kernelspec": {
   "display_name": "Julia 1.10.5",
   "language": "julia",
   "name": "julia-1.10"
  },
  "language_info": {
   "file_extension": ".jl",
   "mimetype": "application/julia",
   "name": "julia",
   "version": "1.10.5"
  }
 },
 "nbformat": 4,
 "nbformat_minor": 2
}
