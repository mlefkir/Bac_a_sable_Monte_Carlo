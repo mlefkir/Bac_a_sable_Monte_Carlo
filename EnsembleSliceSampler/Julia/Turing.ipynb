{
 "cells": [
  {
   "cell_type": "code",
   "execution_count": 1,
   "metadata": {},
   "outputs": [],
   "source": [
    "using Distributed\n",
    "# add processors if we don't have enough\n",
    "# if length(workers()) < 6\n",
    "# \taddprocs(6)\n",
    "# end\n",
    "\n",
    "@everywhere begin\n",
    "\tusing Distributions\n",
    "\tusing Plots\n",
    "\tusing Turing\n",
    "\tusing StatsPlots\n",
    "end"
   ]
  },
  {
   "cell_type": "code",
   "execution_count": 2,
   "metadata": {},
   "outputs": [],
   "source": [
    "@everywhere begin\n",
    "\tn_schools = 8\n",
    "\ty = [28.0, 8.0, -3.0, 7.0, -1.0, 1.0, 18.0, 12.0] # estimated treatment effects\n",
    "\tσ = [15.0, 10.0, 16.0, 11.0, 9.0, 11.0, 10.0, 18.0] # standard error of the effect estimate\n",
    "end"
   ]
  },
  {
   "cell_type": "code",
   "execution_count": 3,
   "metadata": {},
   "outputs": [],
   "source": [
    "@everywhere begin\n",
    "\t\n",
    "\t@model function schools(y, σ)\n",
    "\t\tμ ~ Normal(0, 5)\n",
    "\t\tτ ~ truncated(Cauchy(0, 5), lower = 0)\n",
    "\t\tθ ~ filldist(Normal(μ, τ), n_schools)\n",
    "\t\tfor i in 1:n_schools\n",
    "\t\t\ty[i] ~ Normal(θ[i], σ[i])\n",
    "\t\tend\n",
    "\tend\n",
    "\n",
    "\t@model function school_reparam(y, σ)\n",
    "\t\tμ ~ Normal(0, 5)\n",
    "\t\tτ ~ truncated(Cauchy(0, 5), lower = 0)\n",
    "\t\tθ ~ filldist(Normal(0, 1), n_schools)\n",
    "\t\t# y .~ ForEach(μ .+ τ .* θ, σ)\n",
    "\t\tfor i in 1:n_schools\n",
    "\t\t\ty[i] ~ Normal(μ + τ * θ[i], σ[i])\n",
    "\t\tend\n",
    "\tend\n",
    "end\n"
   ]
  },
  {
   "cell_type": "markdown",
   "metadata": {},
   "source": [
    "#### Inference with the No U-Turn Sampler (NUTS)"
   ]
  },
  {
   "cell_type": "code",
   "execution_count": null,
   "metadata": {},
   "outputs": [],
   "source": [
    "c1 = sample(schools(y, σ), NUTS(0.8),MCMCDistributed(), 2_000,12,n_adapts=1000)"
   ]
  },
  {
   "cell_type": "code",
   "execution_count": null,
   "metadata": {},
   "outputs": [],
   "source": [
    "c2 = sample(school_reparam(y, σ), NUTS(0.8),MCMCDistributed(), 2_000,12,n_adapts=1000)"
   ]
  },
  {
   "cell_type": "markdown",
   "metadata": {},
   "source": [
    "#### Emcee"
   ]
  },
  {
   "cell_type": "code",
   "execution_count": null,
   "metadata": {},
   "outputs": [],
   "source": [
    "c3 = sample(schools(y, σ), Emcee(50),20_000)"
   ]
  },
  {
   "cell_type": "code",
   "execution_count": null,
   "metadata": {},
   "outputs": [],
   "source": [
    "c4 = sample(school_reparam(y, σ), Emcee(50),20_000)"
   ]
  },
  {
   "cell_type": "markdown",
   "metadata": {},
   "source": [
    "## Using MicroCanonical HMC"
   ]
  },
  {
   "cell_type": "code",
   "execution_count": 11,
   "metadata": {},
   "outputs": [],
   "source": [
    "@everywhere begin\n",
    "\tusing MicroCanonicalHMC\n",
    "\tn_adapts = 2_000 # adaptation steps\n",
    "\ttev = 0.001 # target energy variance\n",
    "\tmchmc = MCHMC(n_adapts, tev; adaptive = true)\n",
    "end"
   ]
  },
  {
   "cell_type": "code",
   "execution_count": null,
   "metadata": {},
   "outputs": [],
   "source": [
    "c5 = sample(schools(y, σ), externalsampler(mchmc),MCMCDistributed(), 10_000,6)"
   ]
  },
  {
   "cell_type": "code",
   "execution_count": null,
   "metadata": {},
   "outputs": [],
   "source": [
    "c6 = sample(school_reparam(y, σ), externalsampler(mchmc),MCMCDistributed(), 10_000,6)"
   ]
  },
  {
   "cell_type": "code",
   "execution_count": null,
   "metadata": {},
   "outputs": [],
   "source": [
    "plot(c1)"
   ]
  },
  {
   "cell_type": "code",
   "execution_count": null,
   "metadata": {},
   "outputs": [],
   "source": [
    "plot(c2)"
   ]
  },
  {
   "cell_type": "code",
   "execution_count": null,
   "metadata": {},
   "outputs": [],
   "source": [
    "plot(c3)"
   ]
  },
  {
   "cell_type": "code",
   "execution_count": null,
   "metadata": {},
   "outputs": [],
   "source": [
    "plot(c4)"
   ]
  },
  {
   "cell_type": "code",
   "execution_count": null,
   "metadata": {},
   "outputs": [],
   "source": [
    "plot(c5)"
   ]
  },
  {
   "cell_type": "code",
   "execution_count": null,
   "metadata": {},
   "outputs": [],
   "source": [
    "plot(c6)"
   ]
  },
  {
   "cell_type": "code",
   "execution_count": null,
   "metadata": {},
   "outputs": [],
   "source": []
  }
 ],
 "metadata": {
  "kernelspec": {
   "display_name": "Julia 1.10.5",
   "language": "julia",
   "name": "julia-1.10"
  },
  "language_info": {
   "file_extension": ".jl",
   "mimetype": "application/julia",
   "name": "julia",
   "version": "1.10.5"
  }
 },
 "nbformat": 4,
 "nbformat_minor": 2
}
