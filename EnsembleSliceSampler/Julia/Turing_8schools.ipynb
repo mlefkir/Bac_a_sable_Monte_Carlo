{
 "cells": [
  {
   "cell_type": "code",
   "execution_count": 1,
   "metadata": {},
   "outputs": [],
   "source": [
    "using Distributed\n",
    "# add processors if we don't have enough\n",
    "# if length(workers()) < 6\n",
    "# \taddprocs(6)\n",
    "# end\n",
    "\n",
    "@everywhere begin\n",
    "\tusing Distributions\n",
    "\tusing Plots\n",
    "\tusing Turing\n",
    "\tusing StatsPlots\n",
    "end"
   ]
  },
  {
   "cell_type": "code",
   "execution_count": 2,
   "metadata": {},
   "outputs": [],
   "source": [
    "@everywhere begin\n",
    "\tn_schools = 8\n",
    "\ty = [28.0, 8.0, -3.0, 7.0, -1.0, 1.0, 18.0, 12.0] # estimated treatment effects\n",
    "\tσ = [15.0, 10.0, 16.0, 11.0, 9.0, 11.0, 10.0, 18.0] # standard error of the effect estimate\n",
    "end"
   ]
  },
  {
   "cell_type": "code",
   "execution_count": 3,
   "metadata": {},
   "outputs": [],
   "source": [
    "@everywhere begin\n",
    "\t\n",
    "\t@model function schools(y, σ)\n",
    "\t\tμ ~ Normal(0, 5)\n",
    "\t\tτ ~ truncated(Cauchy(0, 5), lower = 0)\n",
    "\t\tθ ~ filldist(Normal(μ, τ), n_schools)\n",
    "\t\tfor i in 1:n_schools\n",
    "\t\t\ty[i] ~ Normal(θ[i], σ[i])\n",
    "\t\tend\n",
    "\tend\n",
    "\n",
    "\t@model function school_reparam(y, σ)\n",
    "\t\tμ ~ Normal(0, 5)\n",
    "\t\tτ ~ truncated(Cauchy(0, 5), lower = 0)\n",
    "\t\tθ ~ filldist(Normal(0, 1), n_schools)\n",
    "\t\t# y .~ ForEach(μ .+ τ .* θ, σ)\n",
    "\t\tfor i in 1:n_schools\n",
    "\t\t\ty[i] ~ Normal(μ + τ * θ[i], σ[i])\n",
    "\t\tend\n",
    "\tend\n",
    "end\n"
   ]
  },
  {
   "cell_type": "markdown",
   "metadata": {},
   "source": [
    "#### Inference with the No U-Turn Sampler (NUTS)"
   ]
  },
  {
   "cell_type": "code",
   "execution_count": 4,
   "metadata": {},
   "outputs": [
    {
     "name": "stderr",
     "output_type": "stream",
     "text": [
      "┌ Warning: Only a single process available: MCMC chains are not sampled in parallel\n",
      "└ @ AbstractMCMC /home/mehdy/.julia/packages/AbstractMCMC/YrmkI/src/sample.jl:426\n",
      "\u001b[32mSampling (1 processes)   0%|                            |  ETA: N/A\u001b[39m\n",
      "┌ Info: Found initial step size\n",
      "│   ϵ = 0.8\n",
      "└ @ Turing.Inference /home/mehdy/.julia/packages/Turing/r3Hmj/src/mcmc/hmc.jl:212\n",
      "\u001b[32mSampling (1 processes)   8%|██▍                         |  ETA: 0:03:17\u001b[39m\n",
      "┌ Info: Found initial step size\n",
      "│   ϵ = 0.05\n",
      "└ @ Turing.Inference /home/mehdy/.julia/packages/Turing/r3Hmj/src/mcmc/hmc.jl:212\n",
      "\u001b[32mSampling (1 processes)  17%|████▋                       |  ETA: 0:01:44\u001b[39m\n",
      "┌ Info: Found initial step size\n",
      "│   ϵ = 1.1875000000000002\n",
      "└ @ Turing.Inference /home/mehdy/.julia/packages/Turing/r3Hmj/src/mcmc/hmc.jl:212\n",
      "\u001b[32mSampling (1 processes)  25%|███████                     |  ETA: 0:01:10\u001b[39m\n",
      "┌ Info: Found initial step size\n",
      "│   ϵ = 1.6\n",
      "└ @ Turing.Inference /home/mehdy/.julia/packages/Turing/r3Hmj/src/mcmc/hmc.jl:212\n",
      "\u001b[32mSampling (1 processes)  33%|█████████▍                  |  ETA: 0:00:52\u001b[39m\n",
      "┌ Info: Found initial step size\n",
      "│   ϵ = 0.4\n",
      "└ @ Turing.Inference /home/mehdy/.julia/packages/Turing/r3Hmj/src/mcmc/hmc.jl:212\n",
      "\u001b[32mSampling (1 processes)  42%|███████████▋                |  ETA: 0:00:41\u001b[39m\n",
      "┌ Info: Found initial step size\n",
      "│   ϵ = 0.043750000000000004\n",
      "└ @ Turing.Inference /home/mehdy/.julia/packages/Turing/r3Hmj/src/mcmc/hmc.jl:212\n",
      "\u001b[32mSampling (1 processes)  50%|██████████████              |  ETA: 0:00:32\u001b[39m\n",
      "┌ Info: Found initial step size\n",
      "│   ϵ = 0.2\n",
      "└ @ Turing.Inference /home/mehdy/.julia/packages/Turing/r3Hmj/src/mcmc/hmc.jl:212\n",
      "\u001b[90mSampling (1 processes) 100%|████████████████████████████| Time: 0:00:34\u001b[39m\n"
     ]
    },
    {
     "ename": "CompositeException",
     "evalue": "TaskFailedException\n\n    nested task error: InterruptException:\n    Stacktrace:\n      [1] Normal(μ::ForwardDiff.Dual{ForwardDiff.Tag{DynamicPPL.DynamicPPLTag, Float64}, Float64, 10}, σ::Float64)\n        @ Distributions ~/.julia/packages/Distributions/nmUhn/src/univariate/continuous/normal.jl:42\n      [2] macro expansion\n        @ ~/.julia/packages/DynamicPPL/DvdZw/src/compiler.jl:579 [inlined]\n      [3] schools(__model__::DynamicPPL.Model{typeof(schools), (:y, :σ), (), (), Tuple{Vector{Float64}, Vector{Float64}}, Tuple{}, DynamicPPL.DefaultContext}, __varinfo__::DynamicPPL.TypedVarInfo{@NamedTuple{μ::DynamicPPL.Metadata{Dict{AbstractPPL.VarName{:μ, typeof(identity)}, Int64}, Vector{Normal{Float64}}, Vector{AbstractPPL.VarName{:μ, typeof(identity)}}, Vector{ForwardDiff.Dual{ForwardDiff.Tag{DynamicPPL.DynamicPPLTag, Float64}, Float64, 10}}, Vector{Set{DynamicPPL.Selector}}}, τ::DynamicPPL.Metadata{Dict{AbstractPPL.VarName{:τ, typeof(identity)}, Int64}, Vector{Truncated{Cauchy{Float64}, Continuous, Float64, Float64, Nothing}}, Vector{AbstractPPL.VarName{:τ, typeof(identity)}}, Vector{ForwardDiff.Dual{ForwardDiff.Tag{DynamicPPL.DynamicPPLTag, Float64}, Float64, 10}}, Vector{Set{DynamicPPL.Selector}}}, θ::DynamicPPL.Metadata{Dict{AbstractPPL.VarName{:θ, typeof(identity)}, Int64}, Vector{DistributionsAD.TuringScalMvNormal{Vector{Float64}, Float64}}, Vector{AbstractPPL.VarName{:θ, typeof(identity)}}, Vector{ForwardDiff.Dual{ForwardDiff.Tag{DynamicPPL.DynamicPPLTag, Float64}, Float64, 10}}, Vector{Set{DynamicPPL.Selector}}}}, ForwardDiff.Dual{ForwardDiff.Tag{DynamicPPL.DynamicPPLTag, Float64}, Float64, 10}}, __context__::DynamicPPL.SamplingContext{DynamicPPL.Sampler{NUTS{AutoForwardDiff{nothing, Nothing}, (), AdvancedHMC.DiagEuclideanMetric}}, DynamicPPL.DefaultContext, Random.TaskLocalRNG}, y::Vector{Float64}, σ::Vector{Float64})\n        @ Main ~/github/Bac_a_sable_Monte_Carlo/EnsembleSliceSampler/Julia/jl_notebook_cell_df34fa98e69747e1a8f8a730347b8e2f_W2sZmlsZQ==.jl:7\n      [4] _evaluate!!\n        @ ~/.julia/packages/DynamicPPL/DvdZw/src/model.jl:973 [inlined]\n      [5] evaluate_threadunsafe!!\n        @ ~/.julia/packages/DynamicPPL/DvdZw/src/model.jl:946 [inlined]\n      [6] evaluate!!(model::DynamicPPL.Model{typeof(schools), (:y, :σ), (), (), Tuple{Vector{Float64}, Vector{Float64}}, Tuple{}, DynamicPPL.DefaultContext}, varinfo::DynamicPPL.TypedVarInfo{@NamedTuple{μ::DynamicPPL.Metadata{Dict{AbstractPPL.VarName{:μ, typeof(identity)}, Int64}, Vector{Normal{Float64}}, Vector{AbstractPPL.VarName{:μ, typeof(identity)}}, Vector{ForwardDiff.Dual{ForwardDiff.Tag{DynamicPPL.DynamicPPLTag, Float64}, Float64, 10}}, Vector{Set{DynamicPPL.Selector}}}, τ::DynamicPPL.Metadata{Dict{AbstractPPL.VarName{:τ, typeof(identity)}, Int64}, Vector{Truncated{Cauchy{Float64}, Continuous, Float64, Float64, Nothing}}, Vector{AbstractPPL.VarName{:τ, typeof(identity)}}, Vector{ForwardDiff.Dual{ForwardDiff.Tag{DynamicPPL.DynamicPPLTag, Float64}, Float64, 10}}, Vector{Set{DynamicPPL.Selector}}}, θ::DynamicPPL.Metadata{Dict{AbstractPPL.VarName{:θ, typeof(identity)}, Int64}, Vector{DistributionsAD.TuringScalMvNormal{Vector{Float64}, Float64}}, Vector{AbstractPPL.VarName{:θ, typeof(identity)}}, Vector{ForwardDiff.Dual{ForwardDiff.Tag{DynamicPPL.DynamicPPLTag, Float64}, Float64, 10}}, Vector{Set{DynamicPPL.Selector}}}}, ForwardDiff.Dual{ForwardDiff.Tag{DynamicPPL.DynamicPPLTag, Float64}, Float64, 10}}, context::DynamicPPL.SamplingContext{DynamicPPL.Sampler{NUTS{AutoForwardDiff{nothing, Nothing}, (), AdvancedHMC.DiagEuclideanMetric}}, DynamicPPL.DefaultContext, Random.TaskLocalRNG})\n        @ DynamicPPL ~/.julia/packages/DynamicPPL/DvdZw/src/model.jl:894\n      [7] logdensity\n        @ ~/.julia/packages/DynamicPPL/DvdZw/src/logdensityfunction.jl:140 [inlined]\n      [8] Fix1\n        @ ./operators.jl:1118 [inlined]\n      [9] vector_mode_dual_eval!\n        @ ~/.julia/packages/ForwardDiff/PcZ48/src/apiutils.jl:24 [inlined]\n     [10] vector_mode_gradient!(result::DiffResults.MutableDiffResult{1, Float64, Tuple{Vector{Float64}}}, f::Base.Fix1{typeof(LogDensityProblems.logdensity), LogDensityFunction{DynamicPPL.TypedVarInfo{@NamedTuple{μ::DynamicPPL.Metadata{Dict{AbstractPPL.VarName{:μ, typeof(identity)}, Int64}, Vector{Normal{Float64}}, Vector{AbstractPPL.VarName{:μ, typeof(identity)}}, Vector{Float64}, Vector{Set{DynamicPPL.Selector}}}, τ::DynamicPPL.Metadata{Dict{AbstractPPL.VarName{:τ, typeof(identity)}, Int64}, Vector{Truncated{Cauchy{Float64}, Continuous, Float64, Float64, Nothing}}, Vector{AbstractPPL.VarName{:τ, typeof(identity)}}, Vector{Float64}, Vector{Set{DynamicPPL.Selector}}}, θ::DynamicPPL.Metadata{Dict{AbstractPPL.VarName{:θ, typeof(identity)}, Int64}, Vector{DistributionsAD.TuringScalMvNormal{Vector{Float64}, Float64}}, Vector{AbstractPPL.VarName{:θ, typeof(identity)}}, Vector{Float64}, Vector{Set{DynamicPPL.Selector}}}}, Float64}, DynamicPPL.Model{typeof(schools), (:y, :σ), (), (), Tuple{Vector{Float64}, Vector{Float64}}, Tuple{}, DynamicPPL.DefaultContext}, DynamicPPL.SamplingContext{DynamicPPL.Sampler{NUTS{AutoForwardDiff{nothing, Nothing}, (), AdvancedHMC.DiagEuclideanMetric}}, DynamicPPL.DefaultContext, Random.TaskLocalRNG}}}, x::Vector{Float64}, cfg::ForwardDiff.GradientConfig{ForwardDiff.Tag{DynamicPPL.DynamicPPLTag, Float64}, Float64, 10, Vector{ForwardDiff.Dual{ForwardDiff.Tag{DynamicPPL.DynamicPPLTag, Float64}, Float64, 10}}})\n        @ ForwardDiff ~/.julia/packages/ForwardDiff/PcZ48/src/gradient.jl:96\n     [11] gradient!\n        @ ~/.julia/packages/ForwardDiff/PcZ48/src/gradient.jl:37 [inlined]\n     [12] gradient!\n        @ ~/.julia/packages/ForwardDiff/PcZ48/src/gradient.jl:35 [inlined]\n     [13] logdensity_and_gradient\n        @ ~/.julia/packages/LogDensityProblemsAD/YARqg/ext/LogDensityProblemsADForwardDiffExt.jl:116 [inlined]\n     [14] ∂logπ∂θ\n        @ ~/.julia/packages/Turing/r3Hmj/src/mcmc/hmc.jl:180 [inlined]\n     [15] ∂H∂θ\n        @ ~/.julia/packages/AdvancedHMC/AlvV4/src/hamiltonian.jl:38 [inlined]\n     [16] step(lf::AdvancedHMC.Leapfrog{Float64}, h::AdvancedHMC.Hamiltonian{AdvancedHMC.DiagEuclideanMetric{Float64, Vector{Float64}}, AdvancedHMC.GaussianKinetic, Base.Fix1{typeof(LogDensityProblems.logdensity), LogDensityProblemsADForwardDiffExt.ForwardDiffLogDensity{LogDensityFunction{DynamicPPL.TypedVarInfo{@NamedTuple{μ::DynamicPPL.Metadata{Dict{AbstractPPL.VarName{:μ, typeof(identity)}, Int64}, Vector{Normal{Float64}}, Vector{AbstractPPL.VarName{:μ, typeof(identity)}}, Vector{Float64}, Vector{Set{DynamicPPL.Selector}}}, τ::DynamicPPL.Metadata{Dict{AbstractPPL.VarName{:τ, typeof(identity)}, Int64}, Vector{Truncated{Cauchy{Float64}, Continuous, Float64, Float64, Nothing}}, Vector{AbstractPPL.VarName{:τ, typeof(identity)}}, Vector{Float64}, Vector{Set{DynamicPPL.Selector}}}, θ::DynamicPPL.Metadata{Dict{AbstractPPL.VarName{:θ, typeof(identity)}, Int64}, Vector{DistributionsAD.TuringScalMvNormal{Vector{Float64}, Float64}}, Vector{AbstractPPL.VarName{:θ, typeof(identity)}}, Vector{Float64}, Vector{Set{DynamicPPL.Selector}}}}, Float64}, DynamicPPL.Model{typeof(schools), (:y, :σ), (), (), Tuple{Vector{Float64}, Vector{Float64}}, Tuple{}, DynamicPPL.DefaultContext}, DynamicPPL.SamplingContext{DynamicPPL.Sampler{NUTS{AutoForwardDiff{nothing, Nothing}, (), AdvancedHMC.DiagEuclideanMetric}}, DynamicPPL.DefaultContext, Random.TaskLocalRNG}}, ForwardDiff.Chunk{10}, ForwardDiff.Tag{DynamicPPL.DynamicPPLTag, Float64}, ForwardDiff.GradientConfig{ForwardDiff.Tag{DynamicPPL.DynamicPPLTag, Float64}, Float64, 10, Vector{ForwardDiff.Dual{ForwardDiff.Tag{DynamicPPL.DynamicPPLTag, Float64}, Float64, 10}}}}}, Turing.Inference.var\"#∂logπ∂θ#32\"{LogDensityProblemsADForwardDiffExt.ForwardDiffLogDensity{LogDensityFunction{DynamicPPL.TypedVarInfo{@NamedTuple{μ::DynamicPPL.Metadata{Dict{AbstractPPL.VarName{:μ, typeof(identity)}, Int64}, Vector{Normal{Float64}}, Vector{AbstractPPL.VarName{:μ, typeof(identity)}}, Vector{Float64}, Vector{Set{DynamicPPL.Selector}}}, τ::DynamicPPL.Metadata{Dict{AbstractPPL.VarName{:τ, typeof(identity)}, Int64}, Vector{Truncated{Cauchy{Float64}, Continuous, Float64, Float64, Nothing}}, Vector{AbstractPPL.VarName{:τ, typeof(identity)}}, Vector{Float64}, Vector{Set{DynamicPPL.Selector}}}, θ::DynamicPPL.Metadata{Dict{AbstractPPL.VarName{:θ, typeof(identity)}, Int64}, Vector{DistributionsAD.TuringScalMvNormal{Vector{Float64}, Float64}}, Vector{AbstractPPL.VarName{:θ, typeof(identity)}}, Vector{Float64}, Vector{Set{DynamicPPL.Selector}}}}, Float64}, DynamicPPL.Model{typeof(schools), (:y, :σ), (), (), Tuple{Vector{Float64}, Vector{Float64}}, Tuple{}, DynamicPPL.DefaultContext}, DynamicPPL.SamplingContext{DynamicPPL.Sampler{NUTS{AutoForwardDiff{nothing, Nothing}, (), AdvancedHMC.DiagEuclideanMetric}}, DynamicPPL.DefaultContext, Random.TaskLocalRNG}}, ForwardDiff.Chunk{10}, ForwardDiff.Tag{DynamicPPL.DynamicPPLTag, Float64}, ForwardDiff.GradientConfig{ForwardDiff.Tag{DynamicPPL.DynamicPPLTag, Float64}, Float64, 10, Vector{ForwardDiff.Dual{ForwardDiff.Tag{DynamicPPL.DynamicPPLTag, Float64}, Float64, 10}}}}}}, z::AdvancedHMC.PhasePoint{Vector{Float64}, AdvancedHMC.DualValue{Float64, Vector{Float64}}}, n_steps::Int64; fwd::Bool, full_trajectory::Val{false})\n        @ AdvancedHMC ~/.julia/packages/AdvancedHMC/AlvV4/src/integrator.jl:229\n     [17] step\n        @ ~/.julia/packages/AdvancedHMC/AlvV4/src/integrator.jl:199 [inlined]\n     [18] build_tree(rng::Random.TaskLocalRNG, nt::AdvancedHMC.Trajectory{AdvancedHMC.MultinomialTS, AdvancedHMC.Leapfrog{Float64}, AdvancedHMC.GeneralisedNoUTurn{Float64}}, h::AdvancedHMC.Hamiltonian{AdvancedHMC.DiagEuclideanMetric{Float64, Vector{Float64}}, AdvancedHMC.GaussianKinetic, Base.Fix1{typeof(LogDensityProblems.logdensity), LogDensityProblemsADForwardDiffExt.ForwardDiffLogDensity{LogDensityFunction{DynamicPPL.TypedVarInfo{@NamedTuple{μ::DynamicPPL.Metadata{Dict{AbstractPPL.VarName{:μ, typeof(identity)}, Int64}, Vector{Normal{Float64}}, Vector{AbstractPPL.VarName{:μ, typeof(identity)}}, Vector{Float64}, Vector{Set{DynamicPPL.Selector}}}, τ::DynamicPPL.Metadata{Dict{AbstractPPL.VarName{:τ, typeof(identity)}, Int64}, Vector{Truncated{Cauchy{Float64}, Continuous, Float64, Float64, Nothing}}, Vector{AbstractPPL.VarName{:τ, typeof(identity)}}, Vector{Float64}, Vector{Set{DynamicPPL.Selector}}}, θ::DynamicPPL.Metadata{Dict{AbstractPPL.VarName{:θ, typeof(identity)}, Int64}, Vector{DistributionsAD.TuringScalMvNormal{Vector{Float64}, Float64}}, Vector{AbstractPPL.VarName{:θ, typeof(identity)}}, Vector{Float64}, Vector{Set{DynamicPPL.Selector}}}}, Float64}, DynamicPPL.Model{typeof(schools), (:y, :σ), (), (), Tuple{Vector{Float64}, Vector{Float64}}, Tuple{}, DynamicPPL.DefaultContext}, DynamicPPL.SamplingContext{DynamicPPL.Sampler{NUTS{AutoForwardDiff{nothing, Nothing}, (), AdvancedHMC.DiagEuclideanMetric}}, DynamicPPL.DefaultContext, Random.TaskLocalRNG}}, ForwardDiff.Chunk{10}, ForwardDiff.Tag{DynamicPPL.DynamicPPLTag, Float64}, ForwardDiff.GradientConfig{ForwardDiff.Tag{DynamicPPL.DynamicPPLTag, Float64}, Float64, 10, Vector{ForwardDiff.Dual{ForwardDiff.Tag{DynamicPPL.DynamicPPLTag, Float64}, Float64, 10}}}}}, Turing.Inference.var\"#∂logπ∂θ#32\"{LogDensityProblemsADForwardDiffExt.ForwardDiffLogDensity{LogDensityFunction{DynamicPPL.TypedVarInfo{@NamedTuple{μ::DynamicPPL.Metadata{Dict{AbstractPPL.VarName{:μ, typeof(identity)}, Int64}, Vector{Normal{Float64}}, Vector{AbstractPPL.VarName{:μ, typeof(identity)}}, Vector{Float64}, Vector{Set{DynamicPPL.Selector}}}, τ::DynamicPPL.Metadata{Dict{AbstractPPL.VarName{:τ, typeof(identity)}, Int64}, Vector{Truncated{Cauchy{Float64}, Continuous, Float64, Float64, Nothing}}, Vector{AbstractPPL.VarName{:τ, typeof(identity)}}, Vector{Float64}, Vector{Set{DynamicPPL.Selector}}}, θ::DynamicPPL.Metadata{Dict{AbstractPPL.VarName{:θ, typeof(identity)}, Int64}, Vector{DistributionsAD.TuringScalMvNormal{Vector{Float64}, Float64}}, Vector{AbstractPPL.VarName{:θ, typeof(identity)}}, Vector{Float64}, Vector{Set{DynamicPPL.Selector}}}}, Float64}, DynamicPPL.Model{typeof(schools), (:y, :σ), (), (), Tuple{Vector{Float64}, Vector{Float64}}, Tuple{}, DynamicPPL.DefaultContext}, DynamicPPL.SamplingContext{DynamicPPL.Sampler{NUTS{AutoForwardDiff{nothing, Nothing}, (), AdvancedHMC.DiagEuclideanMetric}}, DynamicPPL.DefaultContext, Random.TaskLocalRNG}}, ForwardDiff.Chunk{10}, ForwardDiff.Tag{DynamicPPL.DynamicPPLTag, Float64}, ForwardDiff.GradientConfig{ForwardDiff.Tag{DynamicPPL.DynamicPPLTag, Float64}, Float64, 10, Vector{ForwardDiff.Dual{ForwardDiff.Tag{DynamicPPL.DynamicPPLTag, Float64}, Float64, 10}}}}}}, z::AdvancedHMC.PhasePoint{Vector{Float64}, AdvancedHMC.DualValue{Float64, Vector{Float64}}}, sampler::AdvancedHMC.MultinomialTS{Float64}, v::Int64, j::Int64, H0::Float64)\n        @ AdvancedHMC ~/.julia/packages/AdvancedHMC/AlvV4/src/trajectory.jl:639\n     [19] build_tree(rng::Random.TaskLocalRNG, nt::AdvancedHMC.Trajectory{AdvancedHMC.MultinomialTS, AdvancedHMC.Leapfrog{Float64}, AdvancedHMC.GeneralisedNoUTurn{Float64}}, h::AdvancedHMC.Hamiltonian{AdvancedHMC.DiagEuclideanMetric{Float64, Vector{Float64}}, AdvancedHMC.GaussianKinetic, Base.Fix1{typeof(LogDensityProblems.logdensity), LogDensityProblemsADForwardDiffExt.ForwardDiffLogDensity{LogDensityFunction{DynamicPPL.TypedVarInfo{@NamedTuple{μ::DynamicPPL.Metadata{Dict{AbstractPPL.VarName{:μ, typeof(identity)}, Int64}, Vector{Normal{Float64}}, Vector{AbstractPPL.VarName{:μ, typeof(identity)}}, Vector{Float64}, Vector{Set{DynamicPPL.Selector}}}, τ::DynamicPPL.Metadata{Dict{AbstractPPL.VarName{:τ, typeof(identity)}, Int64}, Vector{Truncated{Cauchy{Float64}, Continuous, Float64, Float64, Nothing}}, Vector{AbstractPPL.VarName{:τ, typeof(identity)}}, Vector{Float64}, Vector{Set{DynamicPPL.Selector}}}, θ::DynamicPPL.Metadata{Dict{AbstractPPL.VarName{:θ, typeof(identity)}, Int64}, Vector{DistributionsAD.TuringScalMvNormal{Vector{Float64}, Float64}}, Vector{AbstractPPL.VarName{:θ, typeof(identity)}}, Vector{Float64}, Vector{Set{DynamicPPL.Selector}}}}, Float64}, DynamicPPL.Model{typeof(schools), (:y, :σ), (), (), Tuple{Vector{Float64}, Vector{Float64}}, Tuple{}, DynamicPPL.DefaultContext}, DynamicPPL.SamplingContext{DynamicPPL.Sampler{NUTS{AutoForwardDiff{nothing, Nothing}, (), AdvancedHMC.DiagEuclideanMetric}}, DynamicPPL.DefaultContext, Random.TaskLocalRNG}}, ForwardDiff.Chunk{10}, ForwardDiff.Tag{DynamicPPL.DynamicPPLTag, Float64}, ForwardDiff.GradientConfig{ForwardDiff.Tag{DynamicPPL.DynamicPPLTag, Float64}, Float64, 10, Vector{ForwardDiff.Dual{ForwardDiff.Tag{DynamicPPL.DynamicPPLTag, Float64}, Float64, 10}}}}}, Turing.Inference.var\"#∂logπ∂θ#32\"{LogDensityProblemsADForwardDiffExt.ForwardDiffLogDensity{LogDensityFunction{DynamicPPL.TypedVarInfo{@NamedTuple{μ::DynamicPPL.Metadata{Dict{AbstractPPL.VarName{:μ, typeof(identity)}, Int64}, Vector{Normal{Float64}}, Vector{AbstractPPL.VarName{:μ, typeof(identity)}}, Vector{Float64}, Vector{Set{DynamicPPL.Selector}}}, τ::DynamicPPL.Metadata{Dict{AbstractPPL.VarName{:τ, typeof(identity)}, Int64}, Vector{Truncated{Cauchy{Float64}, Continuous, Float64, Float64, Nothing}}, Vector{AbstractPPL.VarName{:τ, typeof(identity)}}, Vector{Float64}, Vector{Set{DynamicPPL.Selector}}}, θ::DynamicPPL.Metadata{Dict{AbstractPPL.VarName{:θ, typeof(identity)}, Int64}, Vector{DistributionsAD.TuringScalMvNormal{Vector{Float64}, Float64}}, Vector{AbstractPPL.VarName{:θ, typeof(identity)}}, Vector{Float64}, Vector{Set{DynamicPPL.Selector}}}}, Float64}, DynamicPPL.Model{typeof(schools), (:y, :σ), (), (), Tuple{Vector{Float64}, Vector{Float64}}, Tuple{}, DynamicPPL.DefaultContext}, DynamicPPL.SamplingContext{DynamicPPL.Sampler{NUTS{AutoForwardDiff{nothing, Nothing}, (), AdvancedHMC.DiagEuclideanMetric}}, DynamicPPL.DefaultContext, Random.TaskLocalRNG}}, ForwardDiff.Chunk{10}, ForwardDiff.Tag{DynamicPPL.DynamicPPLTag, Float64}, ForwardDiff.GradientConfig{ForwardDiff.Tag{DynamicPPL.DynamicPPLTag, Float64}, Float64, 10, Vector{ForwardDiff.Dual{ForwardDiff.Tag{DynamicPPL.DynamicPPLTag, Float64}, Float64, 10}}}}}}, z::AdvancedHMC.PhasePoint{Vector{Float64}, AdvancedHMC.DualValue{Float64, Vector{Float64}}}, sampler::AdvancedHMC.MultinomialTS{Float64}, v::Int64, j::Int64, H0::Float64)\n        @ AdvancedHMC ~/.julia/packages/AdvancedHMC/AlvV4/src/trajectory.jl:654\n     [20] transition(rng::Random.TaskLocalRNG, τ::AdvancedHMC.Trajectory{AdvancedHMC.MultinomialTS, AdvancedHMC.Leapfrog{Float64}, AdvancedHMC.GeneralisedNoUTurn{Float64}}, h::AdvancedHMC.Hamiltonian{AdvancedHMC.DiagEuclideanMetric{Float64, Vector{Float64}}, AdvancedHMC.GaussianKinetic, Base.Fix1{typeof(LogDensityProblems.logdensity), LogDensityProblemsADForwardDiffExt.ForwardDiffLogDensity{LogDensityFunction{DynamicPPL.TypedVarInfo{@NamedTuple{μ::DynamicPPL.Metadata{Dict{AbstractPPL.VarName{:μ, typeof(identity)}, Int64}, Vector{Normal{Float64}}, Vector{AbstractPPL.VarName{:μ, typeof(identity)}}, Vector{Float64}, Vector{Set{DynamicPPL.Selector}}}, τ::DynamicPPL.Metadata{Dict{AbstractPPL.VarName{:τ, typeof(identity)}, Int64}, Vector{Truncated{Cauchy{Float64}, Continuous, Float64, Float64, Nothing}}, Vector{AbstractPPL.VarName{:τ, typeof(identity)}}, Vector{Float64}, Vector{Set{DynamicPPL.Selector}}}, θ::DynamicPPL.Metadata{Dict{AbstractPPL.VarName{:θ, typeof(identity)}, Int64}, Vector{DistributionsAD.TuringScalMvNormal{Vector{Float64}, Float64}}, Vector{AbstractPPL.VarName{:θ, typeof(identity)}}, Vector{Float64}, Vector{Set{DynamicPPL.Selector}}}}, Float64}, DynamicPPL.Model{typeof(schools), (:y, :σ), (), (), Tuple{Vector{Float64}, Vector{Float64}}, Tuple{}, DynamicPPL.DefaultContext}, DynamicPPL.SamplingContext{DynamicPPL.Sampler{NUTS{AutoForwardDiff{nothing, Nothing}, (), AdvancedHMC.DiagEuclideanMetric}}, DynamicPPL.DefaultContext, Random.TaskLocalRNG}}, ForwardDiff.Chunk{10}, ForwardDiff.Tag{DynamicPPL.DynamicPPLTag, Float64}, ForwardDiff.GradientConfig{ForwardDiff.Tag{DynamicPPL.DynamicPPLTag, Float64}, Float64, 10, Vector{ForwardDiff.Dual{ForwardDiff.Tag{DynamicPPL.DynamicPPLTag, Float64}, Float64, 10}}}}}, Turing.Inference.var\"#∂logπ∂θ#32\"{LogDensityProblemsADForwardDiffExt.ForwardDiffLogDensity{LogDensityFunction{DynamicPPL.TypedVarInfo{@NamedTuple{μ::DynamicPPL.Metadata{Dict{AbstractPPL.VarName{:μ, typeof(identity)}, Int64}, Vector{Normal{Float64}}, Vector{AbstractPPL.VarName{:μ, typeof(identity)}}, Vector{Float64}, Vector{Set{DynamicPPL.Selector}}}, τ::DynamicPPL.Metadata{Dict{AbstractPPL.VarName{:τ, typeof(identity)}, Int64}, Vector{Truncated{Cauchy{Float64}, Continuous, Float64, Float64, Nothing}}, Vector{AbstractPPL.VarName{:τ, typeof(identity)}}, Vector{Float64}, Vector{Set{DynamicPPL.Selector}}}, θ::DynamicPPL.Metadata{Dict{AbstractPPL.VarName{:θ, typeof(identity)}, Int64}, Vector{DistributionsAD.TuringScalMvNormal{Vector{Float64}, Float64}}, Vector{AbstractPPL.VarName{:θ, typeof(identity)}}, Vector{Float64}, Vector{Set{DynamicPPL.Selector}}}}, Float64}, DynamicPPL.Model{typeof(schools), (:y, :σ), (), (), Tuple{Vector{Float64}, Vector{Float64}}, Tuple{}, DynamicPPL.DefaultContext}, DynamicPPL.SamplingContext{DynamicPPL.Sampler{NUTS{AutoForwardDiff{nothing, Nothing}, (), AdvancedHMC.DiagEuclideanMetric}}, DynamicPPL.DefaultContext, Random.TaskLocalRNG}}, ForwardDiff.Chunk{10}, ForwardDiff.Tag{DynamicPPL.DynamicPPLTag, Float64}, ForwardDiff.GradientConfig{ForwardDiff.Tag{DynamicPPL.DynamicPPLTag, Float64}, Float64, 10, Vector{ForwardDiff.Dual{ForwardDiff.Tag{DynamicPPL.DynamicPPLTag, Float64}, Float64, 10}}}}}}, z0::AdvancedHMC.PhasePoint{Vector{Float64}, AdvancedHMC.DualValue{Float64, Vector{Float64}}})\n        @ AdvancedHMC ~/.julia/packages/AdvancedHMC/AlvV4/src/trajectory.jl:703\n     [21] transition\n        @ ~/.julia/packages/AdvancedHMC/AlvV4/src/sampler.jl:59 [inlined]\n     [22] step(rng::Random.TaskLocalRNG, model::DynamicPPL.Model{typeof(schools), (:y, :σ), (), (), Tuple{Vector{Float64}, Vector{Float64}}, Tuple{}, DynamicPPL.DefaultContext}, spl::DynamicPPL.Sampler{NUTS{AutoForwardDiff{nothing, Nothing}, (), AdvancedHMC.DiagEuclideanMetric}}, state::Turing.Inference.HMCState{DynamicPPL.TypedVarInfo{@NamedTuple{μ::DynamicPPL.Metadata{Dict{AbstractPPL.VarName{:μ, typeof(identity)}, Int64}, Vector{Normal{Float64}}, Vector{AbstractPPL.VarName{:μ, typeof(identity)}}, Vector{Float64}, Vector{Set{DynamicPPL.Selector}}}, τ::DynamicPPL.Metadata{Dict{AbstractPPL.VarName{:τ, typeof(identity)}, Int64}, Vector{Truncated{Cauchy{Float64}, Continuous, Float64, Float64, Nothing}}, Vector{AbstractPPL.VarName{:τ, typeof(identity)}}, Vector{Float64}, Vector{Set{DynamicPPL.Selector}}}, θ::DynamicPPL.Metadata{Dict{AbstractPPL.VarName{:θ, typeof(identity)}, Int64}, Vector{DistributionsAD.TuringScalMvNormal{Vector{Float64}, Float64}}, Vector{AbstractPPL.VarName{:θ, typeof(identity)}}, Vector{Float64}, Vector{Set{DynamicPPL.Selector}}}}, Float64}, AdvancedHMC.HMCKernel{AdvancedHMC.FullMomentumRefreshment, AdvancedHMC.Trajectory{AdvancedHMC.MultinomialTS, AdvancedHMC.Leapfrog{Float64}, AdvancedHMC.GeneralisedNoUTurn{Float64}}}, AdvancedHMC.Hamiltonian{AdvancedHMC.DiagEuclideanMetric{Float64, Vector{Float64}}, AdvancedHMC.GaussianKinetic, Base.Fix1{typeof(LogDensityProblems.logdensity), LogDensityProblemsADForwardDiffExt.ForwardDiffLogDensity{LogDensityFunction{DynamicPPL.TypedVarInfo{@NamedTuple{μ::DynamicPPL.Metadata{Dict{AbstractPPL.VarName{:μ, typeof(identity)}, Int64}, Vector{Normal{Float64}}, Vector{AbstractPPL.VarName{:μ, typeof(identity)}}, Vector{Float64}, Vector{Set{DynamicPPL.Selector}}}, τ::DynamicPPL.Metadata{Dict{AbstractPPL.VarName{:τ, typeof(identity)}, Int64}, Vector{Truncated{Cauchy{Float64}, Continuous, Float64, Float64, Nothing}}, Vector{AbstractPPL.VarName{:τ, typeof(identity)}}, Vector{Float64}, Vector{Set{DynamicPPL.Selector}}}, θ::DynamicPPL.Metadata{Dict{AbstractPPL.VarName{:θ, typeof(identity)}, Int64}, Vector{DistributionsAD.TuringScalMvNormal{Vector{Float64}, Float64}}, Vector{AbstractPPL.VarName{:θ, typeof(identity)}}, Vector{Float64}, Vector{Set{DynamicPPL.Selector}}}}, Float64}, DynamicPPL.Model{typeof(schools), (:y, :σ), (), (), Tuple{Vector{Float64}, Vector{Float64}}, Tuple{}, DynamicPPL.DefaultContext}, DynamicPPL.SamplingContext{DynamicPPL.Sampler{NUTS{AutoForwardDiff{nothing, Nothing}, (), AdvancedHMC.DiagEuclideanMetric}}, DynamicPPL.DefaultContext, Random.TaskLocalRNG}}, ForwardDiff.Chunk{10}, ForwardDiff.Tag{DynamicPPL.DynamicPPLTag, Float64}, ForwardDiff.GradientConfig{ForwardDiff.Tag{DynamicPPL.DynamicPPLTag, Float64}, Float64, 10, Vector{ForwardDiff.Dual{ForwardDiff.Tag{DynamicPPL.DynamicPPLTag, Float64}, Float64, 10}}}}}, Turing.Inference.var\"#∂logπ∂θ#32\"{LogDensityProblemsADForwardDiffExt.ForwardDiffLogDensity{LogDensityFunction{DynamicPPL.TypedVarInfo{@NamedTuple{μ::DynamicPPL.Metadata{Dict{AbstractPPL.VarName{:μ, typeof(identity)}, Int64}, Vector{Normal{Float64}}, Vector{AbstractPPL.VarName{:μ, typeof(identity)}}, Vector{Float64}, Vector{Set{DynamicPPL.Selector}}}, τ::DynamicPPL.Metadata{Dict{AbstractPPL.VarName{:τ, typeof(identity)}, Int64}, Vector{Truncated{Cauchy{Float64}, Continuous, Float64, Float64, Nothing}}, Vector{AbstractPPL.VarName{:τ, typeof(identity)}}, Vector{Float64}, Vector{Set{DynamicPPL.Selector}}}, θ::DynamicPPL.Metadata{Dict{AbstractPPL.VarName{:θ, typeof(identity)}, Int64}, Vector{DistributionsAD.TuringScalMvNormal{Vector{Float64}, Float64}}, Vector{AbstractPPL.VarName{:θ, typeof(identity)}}, Vector{Float64}, Vector{Set{DynamicPPL.Selector}}}}, Float64}, DynamicPPL.Model{typeof(schools), (:y, :σ), (), (), Tuple{Vector{Float64}, Vector{Float64}}, Tuple{}, DynamicPPL.DefaultContext}, DynamicPPL.SamplingContext{DynamicPPL.Sampler{NUTS{AutoForwardDiff{nothing, Nothing}, (), AdvancedHMC.DiagEuclideanMetric}}, DynamicPPL.DefaultContext, Random.TaskLocalRNG}}, ForwardDiff.Chunk{10}, ForwardDiff.Tag{DynamicPPL.DynamicPPLTag, Float64}, ForwardDiff.GradientConfig{ForwardDiff.Tag{DynamicPPL.DynamicPPLTag, Float64}, Float64, 10, Vector{ForwardDiff.Dual{ForwardDiff.Tag{DynamicPPL.DynamicPPLTag, Float64}, Float64, 10}}}}}}, AdvancedHMC.PhasePoint{Vector{Float64}, AdvancedHMC.DualValue{Float64, Vector{Float64}}}, AdvancedHMC.Adaptation.StanHMCAdaptor{AdvancedHMC.Adaptation.WelfordVar{Float64, Vector{Float64}}, AdvancedHMC.Adaptation.NesterovDualAveraging{Float64}}}; nadapts::Int64, kwargs::@Kwargs{initial_params::Nothing, n_adapts::Int64})\n        @ Turing.Inference ~/.julia/packages/Turing/r3Hmj/src/mcmc/hmc.jl:261\n     [23] macro expansion\n        @ ~/.julia/packages/AbstractMCMC/YrmkI/src/sample.jl:176 [inlined]\n     [24] macro expansion\n        @ ~/.julia/packages/AbstractMCMC/YrmkI/src/logging.jl:16 [inlined]\n     [25] mcmcsample(rng::Random.TaskLocalRNG, model::DynamicPPL.Model{typeof(schools), (:y, :σ), (), (), Tuple{Vector{Float64}, Vector{Float64}}, Tuple{}, DynamicPPL.DefaultContext}, sampler::DynamicPPL.Sampler{NUTS{AutoForwardDiff{nothing, Nothing}, (), AdvancedHMC.DiagEuclideanMetric}}, N::Int64; progress::Bool, progressname::String, callback::Nothing, discard_initial::Int64, thinning::Int64, chain_type::Type, initial_state::Nothing, kwargs::@Kwargs{nadapts::Int64, initial_params::Nothing, n_adapts::Int64})\n        @ AbstractMCMC ~/.julia/packages/AbstractMCMC/YrmkI/src/sample.jl:120\n     [26] mcmcsample\n        @ ~/.julia/packages/AbstractMCMC/YrmkI/src/sample.jl:98 [inlined]\n     [27] #sample#30\n        @ ~/.julia/packages/Turing/r3Hmj/src/mcmc/hmc.jl:123 [inlined]\n     [28] sample\n        @ ~/.julia/packages/Turing/r3Hmj/src/mcmc/hmc.jl:92 [inlined]\n     [29] (::AbstractMCMC.var\"#sample_chain#73\"{Bool, @Kwargs{chain_type::UnionAll, n_adapts::Int64}, Random.TaskLocalRNG, DynamicPPL.Model{typeof(schools), (:y, :σ), (), (), Tuple{Vector{Float64}, Vector{Float64}}, Tuple{}, DynamicPPL.DefaultContext}, DynamicPPL.Sampler{NUTS{AutoForwardDiff{nothing, Nothing}, (), AdvancedHMC.DiagEuclideanMetric}}, Int64})(seed::UInt64, initial_params::Nothing, initial_state::Nothing)\n        @ AbstractMCMC ~/.julia/packages/AbstractMCMC/YrmkI/src/sample.jl:483\n     [30] #231\n        @ ~/.julia/juliaup/julia-1.10.5+0.x64.linux.gnu/share/julia/stdlib/v1.10/Distributed/src/pmap.jl:155 [inlined]\n     [31] (::Base.var\"#1023#1028\"{Distributed.var\"#231#232\"{AbstractMCMC.var\"#sample_chain#73\"{Bool, @Kwargs{chain_type::UnionAll, n_adapts::Int64}, Random.TaskLocalRNG, DynamicPPL.Model{typeof(schools), (:y, :σ), (), (), Tuple{Vector{Float64}, Vector{Float64}}, Tuple{}, DynamicPPL.DefaultContext}, DynamicPPL.Sampler{NUTS{AutoForwardDiff{nothing, Nothing}, (), AdvancedHMC.DiagEuclideanMetric}}, Int64}}})(r::Base.RefValue{Any}, args::Tuple{Tuple{UInt64, Nothing, Nothing}})\n        @ Base ./asyncmap.jl:94\n     [32] (::Base.var\"#1039#1040\"{Base.var\"#1023#1028\"{Distributed.var\"#231#232\"{AbstractMCMC.var\"#sample_chain#73\"{Bool, @Kwargs{chain_type::UnionAll, n_adapts::Int64}, Random.TaskLocalRNG, DynamicPPL.Model{typeof(schools), (:y, :σ), (), (), Tuple{Vector{Float64}, Vector{Float64}}, Tuple{}, DynamicPPL.DefaultContext}, DynamicPPL.Sampler{NUTS{AutoForwardDiff{nothing, Nothing}, (), AdvancedHMC.DiagEuclideanMetric}}, Int64}}}, Channel{Any}, Nothing})()\n        @ Base ./asyncmap.jl:228\n    Stacktrace:\n      [1] (::Base.var\"#1033#1035\")(x::Task)\n        @ Base ./asyncmap.jl:171\n      [2] foreach(f::Base.var\"#1033#1035\", itr::Vector{Any})\n        @ Base ./abstractarray.jl:3097\n      [3] maptwice(wrapped_f::Function, chnl::Channel{Any}, worker_tasks::Vector{Any}, c::Base.Iterators.Zip{Tuple{Vector{UInt64}, FillArrays.Fill{Nothing, 1, Tuple{Base.OneTo{Int64}}}, FillArrays.Fill{Nothing, 1, Tuple{Base.OneTo{Int64}}}}})\n        @ Base ./asyncmap.jl:171\n      [4] wrap_n_exec_twice\n        @ ./asyncmap.jl:147 [inlined]\n      [5] #async_usemap#1018\n        @ ./asyncmap.jl:97 [inlined]\n      [6] async_usemap\n        @ ./asyncmap.jl:78 [inlined]\n      [7] #asyncmap#1017\n        @ ./asyncmap.jl:75 [inlined]\n      [8] asyncmap\n        @ ./asyncmap.jl:74 [inlined]\n      [9] pmap(f::Function, p::CachingPool, c::Base.Iterators.Zip{Tuple{Vector{UInt64}, FillArrays.Fill{Nothing, 1, Tuple{Base.OneTo{Int64}}}, FillArrays.Fill{Nothing, 1, Tuple{Base.OneTo{Int64}}}}}; distributed::Bool, batch_size::Int64, on_error::Nothing, retry_delays::Vector{Any}, retry_check::Nothing)\n        @ Distributed ~/.julia/juliaup/julia-1.10.5+0.x64.linux.gnu/share/julia/stdlib/v1.10/Distributed/src/pmap.jl:126\n     [10] pmap\n        @ ~/.julia/juliaup/julia-1.10.5+0.x64.linux.gnu/share/julia/stdlib/v1.10/Distributed/src/pmap.jl:99 [inlined]\n     [11] pmap\n        @ ~/.julia/juliaup/julia-1.10.5+0.x64.linux.gnu/share/julia/stdlib/v1.10/Distributed/src/pmap.jl:155 [inlined]\n     [12] (::AbstractMCMC.var\"#61#72\"{Bool, @Kwargs{chain_type::UnionAll, n_adapts::Int64}, Random.TaskLocalRNG, DynamicPPL.Model{typeof(schools), (:y, :σ), (), (), Tuple{Vector{Float64}, Vector{Float64}}, Tuple{}, DynamicPPL.DefaultContext}, DynamicPPL.Sampler{NUTS{AutoForwardDiff{nothing, Nothing}, (), AdvancedHMC.DiagEuclideanMetric}}, Int64, CachingPool, Vector{UInt64}, FillArrays.Fill{Nothing, 1, Tuple{Base.OneTo{Int64}}}, FillArrays.Fill{Nothing, 1, Tuple{Base.OneTo{Int64}}}})()\n        @ AbstractMCMC ~/.julia/packages/AbstractMCMC/YrmkI/src/sample.jl:500",
     "output_type": "error",
     "traceback": [
      "TaskFailedException\n",
      "\n",
      "    nested task error: InterruptException:\n",
      "    Stacktrace:\n",
      "      [1] Normal(μ::ForwardDiff.Dual{ForwardDiff.Tag{DynamicPPL.DynamicPPLTag, Float64}, Float64, 10}, σ::Float64)\n",
      "        @ Distributions ~/.julia/packages/Distributions/nmUhn/src/univariate/continuous/normal.jl:42\n",
      "      [2] macro expansion\n",
      "        @ ~/.julia/packages/DynamicPPL/DvdZw/src/compiler.jl:579 [inlined]\n",
      "      [3] schools(__model__::DynamicPPL.Model{typeof(schools), (:y, :σ), (), (), Tuple{Vector{Float64}, Vector{Float64}}, Tuple{}, DynamicPPL.DefaultContext}, __varinfo__::DynamicPPL.TypedVarInfo{@NamedTuple{μ::DynamicPPL.Metadata{Dict{AbstractPPL.VarName{:μ, typeof(identity)}, Int64}, Vector{Normal{Float64}}, Vector{AbstractPPL.VarName{:μ, typeof(identity)}}, Vector{ForwardDiff.Dual{ForwardDiff.Tag{DynamicPPL.DynamicPPLTag, Float64}, Float64, 10}}, Vector{Set{DynamicPPL.Selector}}}, τ::DynamicPPL.Metadata{Dict{AbstractPPL.VarName{:τ, typeof(identity)}, Int64}, Vector{Truncated{Cauchy{Float64}, Continuous, Float64, Float64, Nothing}}, Vector{AbstractPPL.VarName{:τ, typeof(identity)}}, Vector{ForwardDiff.Dual{ForwardDiff.Tag{DynamicPPL.DynamicPPLTag, Float64}, Float64, 10}}, Vector{Set{DynamicPPL.Selector}}}, θ::DynamicPPL.Metadata{Dict{AbstractPPL.VarName{:θ, typeof(identity)}, Int64}, Vector{DistributionsAD.TuringScalMvNormal{Vector{Float64}, Float64}}, Vector{AbstractPPL.VarName{:θ, typeof(identity)}}, Vector{ForwardDiff.Dual{ForwardDiff.Tag{DynamicPPL.DynamicPPLTag, Float64}, Float64, 10}}, Vector{Set{DynamicPPL.Selector}}}}, ForwardDiff.Dual{ForwardDiff.Tag{DynamicPPL.DynamicPPLTag, Float64}, Float64, 10}}, __context__::DynamicPPL.SamplingContext{DynamicPPL.Sampler{NUTS{AutoForwardDiff{nothing, Nothing}, (), AdvancedHMC.DiagEuclideanMetric}}, DynamicPPL.DefaultContext, Random.TaskLocalRNG}, y::Vector{Float64}, σ::Vector{Float64})\n",
      "        @ Main ~/github/Bac_a_sable_Monte_Carlo/EnsembleSliceSampler/Julia/jl_notebook_cell_df34fa98e69747e1a8f8a730347b8e2f_W2sZmlsZQ==.jl:7\n",
      "      [4] _evaluate!!\n",
      "        @ ~/.julia/packages/DynamicPPL/DvdZw/src/model.jl:973 [inlined]\n",
      "      [5] evaluate_threadunsafe!!\n",
      "        @ ~/.julia/packages/DynamicPPL/DvdZw/src/model.jl:946 [inlined]\n",
      "      [6] evaluate!!(model::DynamicPPL.Model{typeof(schools), (:y, :σ), (), (), Tuple{Vector{Float64}, Vector{Float64}}, Tuple{}, DynamicPPL.DefaultContext}, varinfo::DynamicPPL.TypedVarInfo{@NamedTuple{μ::DynamicPPL.Metadata{Dict{AbstractPPL.VarName{:μ, typeof(identity)}, Int64}, Vector{Normal{Float64}}, Vector{AbstractPPL.VarName{:μ, typeof(identity)}}, Vector{ForwardDiff.Dual{ForwardDiff.Tag{DynamicPPL.DynamicPPLTag, Float64}, Float64, 10}}, Vector{Set{DynamicPPL.Selector}}}, τ::DynamicPPL.Metadata{Dict{AbstractPPL.VarName{:τ, typeof(identity)}, Int64}, Vector{Truncated{Cauchy{Float64}, Continuous, Float64, Float64, Nothing}}, Vector{AbstractPPL.VarName{:τ, typeof(identity)}}, Vector{ForwardDiff.Dual{ForwardDiff.Tag{DynamicPPL.DynamicPPLTag, Float64}, Float64, 10}}, Vector{Set{DynamicPPL.Selector}}}, θ::DynamicPPL.Metadata{Dict{AbstractPPL.VarName{:θ, typeof(identity)}, Int64}, Vector{DistributionsAD.TuringScalMvNormal{Vector{Float64}, Float64}}, Vector{AbstractPPL.VarName{:θ, typeof(identity)}}, Vector{ForwardDiff.Dual{ForwardDiff.Tag{DynamicPPL.DynamicPPLTag, Float64}, Float64, 10}}, Vector{Set{DynamicPPL.Selector}}}}, ForwardDiff.Dual{ForwardDiff.Tag{DynamicPPL.DynamicPPLTag, Float64}, Float64, 10}}, context::DynamicPPL.SamplingContext{DynamicPPL.Sampler{NUTS{AutoForwardDiff{nothing, Nothing}, (), AdvancedHMC.DiagEuclideanMetric}}, DynamicPPL.DefaultContext, Random.TaskLocalRNG})\n",
      "        @ DynamicPPL ~/.julia/packages/DynamicPPL/DvdZw/src/model.jl:894\n",
      "      [7] logdensity\n",
      "        @ ~/.julia/packages/DynamicPPL/DvdZw/src/logdensityfunction.jl:140 [inlined]\n",
      "      [8] Fix1\n",
      "        @ ./operators.jl:1118 [inlined]\n",
      "      [9] vector_mode_dual_eval!\n",
      "        @ ~/.julia/packages/ForwardDiff/PcZ48/src/apiutils.jl:24 [inlined]\n",
      "     [10] vector_mode_gradient!(result::DiffResults.MutableDiffResult{1, Float64, Tuple{Vector{Float64}}}, f::Base.Fix1{typeof(LogDensityProblems.logdensity), LogDensityFunction{DynamicPPL.TypedVarInfo{@NamedTuple{μ::DynamicPPL.Metadata{Dict{AbstractPPL.VarName{:μ, typeof(identity)}, Int64}, Vector{Normal{Float64}}, Vector{AbstractPPL.VarName{:μ, typeof(identity)}}, Vector{Float64}, Vector{Set{DynamicPPL.Selector}}}, τ::DynamicPPL.Metadata{Dict{AbstractPPL.VarName{:τ, typeof(identity)}, Int64}, Vector{Truncated{Cauchy{Float64}, Continuous, Float64, Float64, Nothing}}, Vector{AbstractPPL.VarName{:τ, typeof(identity)}}, Vector{Float64}, Vector{Set{DynamicPPL.Selector}}}, θ::DynamicPPL.Metadata{Dict{AbstractPPL.VarName{:θ, typeof(identity)}, Int64}, Vector{DistributionsAD.TuringScalMvNormal{Vector{Float64}, Float64}}, Vector{AbstractPPL.VarName{:θ, typeof(identity)}}, Vector{Float64}, Vector{Set{DynamicPPL.Selector}}}}, Float64}, DynamicPPL.Model{typeof(schools), (:y, :σ), (), (), Tuple{Vector{Float64}, Vector{Float64}}, Tuple{}, DynamicPPL.DefaultContext}, DynamicPPL.SamplingContext{DynamicPPL.Sampler{NUTS{AutoForwardDiff{nothing, Nothing}, (), AdvancedHMC.DiagEuclideanMetric}}, DynamicPPL.DefaultContext, Random.TaskLocalRNG}}}, x::Vector{Float64}, cfg::ForwardDiff.GradientConfig{ForwardDiff.Tag{DynamicPPL.DynamicPPLTag, Float64}, Float64, 10, Vector{ForwardDiff.Dual{ForwardDiff.Tag{DynamicPPL.DynamicPPLTag, Float64}, Float64, 10}}})\n",
      "        @ ForwardDiff ~/.julia/packages/ForwardDiff/PcZ48/src/gradient.jl:96\n",
      "     [11] gradient!\n",
      "        @ ~/.julia/packages/ForwardDiff/PcZ48/src/gradient.jl:37 [inlined]\n",
      "     [12] gradient!\n",
      "        @ ~/.julia/packages/ForwardDiff/PcZ48/src/gradient.jl:35 [inlined]\n",
      "     [13] logdensity_and_gradient\n",
      "        @ ~/.julia/packages/LogDensityProblemsAD/YARqg/ext/LogDensityProblemsADForwardDiffExt.jl:116 [inlined]\n",
      "     [14] ∂logπ∂θ\n",
      "        @ ~/.julia/packages/Turing/r3Hmj/src/mcmc/hmc.jl:180 [inlined]\n",
      "     [15] ∂H∂θ\n",
      "        @ ~/.julia/packages/AdvancedHMC/AlvV4/src/hamiltonian.jl:38 [inlined]\n",
      "     [16] step(lf::AdvancedHMC.Leapfrog{Float64}, h::AdvancedHMC.Hamiltonian{AdvancedHMC.DiagEuclideanMetric{Float64, Vector{Float64}}, AdvancedHMC.GaussianKinetic, Base.Fix1{typeof(LogDensityProblems.logdensity), LogDensityProblemsADForwardDiffExt.ForwardDiffLogDensity{LogDensityFunction{DynamicPPL.TypedVarInfo{@NamedTuple{μ::DynamicPPL.Metadata{Dict{AbstractPPL.VarName{:μ, typeof(identity)}, Int64}, Vector{Normal{Float64}}, Vector{AbstractPPL.VarName{:μ, typeof(identity)}}, Vector{Float64}, Vector{Set{DynamicPPL.Selector}}}, τ::DynamicPPL.Metadata{Dict{AbstractPPL.VarName{:τ, typeof(identity)}, Int64}, Vector{Truncated{Cauchy{Float64}, Continuous, Float64, Float64, Nothing}}, Vector{AbstractPPL.VarName{:τ, typeof(identity)}}, Vector{Float64}, Vector{Set{DynamicPPL.Selector}}}, θ::DynamicPPL.Metadata{Dict{AbstractPPL.VarName{:θ, typeof(identity)}, Int64}, Vector{DistributionsAD.TuringScalMvNormal{Vector{Float64}, Float64}}, Vector{AbstractPPL.VarName{:θ, typeof(identity)}}, Vector{Float64}, Vector{Set{DynamicPPL.Selector}}}}, Float64}, DynamicPPL.Model{typeof(schools), (:y, :σ), (), (), Tuple{Vector{Float64}, Vector{Float64}}, Tuple{}, DynamicPPL.DefaultContext}, DynamicPPL.SamplingContext{DynamicPPL.Sampler{NUTS{AutoForwardDiff{nothing, Nothing}, (), AdvancedHMC.DiagEuclideanMetric}}, DynamicPPL.DefaultContext, Random.TaskLocalRNG}}, ForwardDiff.Chunk{10}, ForwardDiff.Tag{DynamicPPL.DynamicPPLTag, Float64}, ForwardDiff.GradientConfig{ForwardDiff.Tag{DynamicPPL.DynamicPPLTag, Float64}, Float64, 10, Vector{ForwardDiff.Dual{ForwardDiff.Tag{DynamicPPL.DynamicPPLTag, Float64}, Float64, 10}}}}}, Turing.Inference.var\"#∂logπ∂θ#32\"{LogDensityProblemsADForwardDiffExt.ForwardDiffLogDensity{LogDensityFunction{DynamicPPL.TypedVarInfo{@NamedTuple{μ::DynamicPPL.Metadata{Dict{AbstractPPL.VarName{:μ, typeof(identity)}, Int64}, Vector{Normal{Float64}}, Vector{AbstractPPL.VarName{:μ, typeof(identity)}}, Vector{Float64}, Vector{Set{DynamicPPL.Selector}}}, τ::DynamicPPL.Metadata{Dict{AbstractPPL.VarName{:τ, typeof(identity)}, Int64}, Vector{Truncated{Cauchy{Float64}, Continuous, Float64, Float64, Nothing}}, Vector{AbstractPPL.VarName{:τ, typeof(identity)}}, Vector{Float64}, Vector{Set{DynamicPPL.Selector}}}, θ::DynamicPPL.Metadata{Dict{AbstractPPL.VarName{:θ, typeof(identity)}, Int64}, Vector{DistributionsAD.TuringScalMvNormal{Vector{Float64}, Float64}}, Vector{AbstractPPL.VarName{:θ, typeof(identity)}}, Vector{Float64}, Vector{Set{DynamicPPL.Selector}}}}, Float64}, DynamicPPL.Model{typeof(schools), (:y, :σ), (), (), Tuple{Vector{Float64}, Vector{Float64}}, Tuple{}, DynamicPPL.DefaultContext}, DynamicPPL.SamplingContext{DynamicPPL.Sampler{NUTS{AutoForwardDiff{nothing, Nothing}, (), AdvancedHMC.DiagEuclideanMetric}}, DynamicPPL.DefaultContext, Random.TaskLocalRNG}}, ForwardDiff.Chunk{10}, ForwardDiff.Tag{DynamicPPL.DynamicPPLTag, Float64}, ForwardDiff.GradientConfig{ForwardDiff.Tag{DynamicPPL.DynamicPPLTag, Float64}, Float64, 10, Vector{ForwardDiff.Dual{ForwardDiff.Tag{DynamicPPL.DynamicPPLTag, Float64}, Float64, 10}}}}}}, z::AdvancedHMC.PhasePoint{Vector{Float64}, AdvancedHMC.DualValue{Float64, Vector{Float64}}}, n_steps::Int64; fwd::Bool, full_trajectory::Val{false})\n",
      "        @ AdvancedHMC ~/.julia/packages/AdvancedHMC/AlvV4/src/integrator.jl:229\n",
      "     [17] step\n",
      "        @ ~/.julia/packages/AdvancedHMC/AlvV4/src/integrator.jl:199 [inlined]\n",
      "     [18] build_tree(rng::Random.TaskLocalRNG, nt::AdvancedHMC.Trajectory{AdvancedHMC.MultinomialTS, AdvancedHMC.Leapfrog{Float64}, AdvancedHMC.GeneralisedNoUTurn{Float64}}, h::AdvancedHMC.Hamiltonian{AdvancedHMC.DiagEuclideanMetric{Float64, Vector{Float64}}, AdvancedHMC.GaussianKinetic, Base.Fix1{typeof(LogDensityProblems.logdensity), LogDensityProblemsADForwardDiffExt.ForwardDiffLogDensity{LogDensityFunction{DynamicPPL.TypedVarInfo{@NamedTuple{μ::DynamicPPL.Metadata{Dict{AbstractPPL.VarName{:μ, typeof(identity)}, Int64}, Vector{Normal{Float64}}, Vector{AbstractPPL.VarName{:μ, typeof(identity)}}, Vector{Float64}, Vector{Set{DynamicPPL.Selector}}}, τ::DynamicPPL.Metadata{Dict{AbstractPPL.VarName{:τ, typeof(identity)}, Int64}, Vector{Truncated{Cauchy{Float64}, Continuous, Float64, Float64, Nothing}}, Vector{AbstractPPL.VarName{:τ, typeof(identity)}}, Vector{Float64}, Vector{Set{DynamicPPL.Selector}}}, θ::DynamicPPL.Metadata{Dict{AbstractPPL.VarName{:θ, typeof(identity)}, Int64}, Vector{DistributionsAD.TuringScalMvNormal{Vector{Float64}, Float64}}, Vector{AbstractPPL.VarName{:θ, typeof(identity)}}, Vector{Float64}, Vector{Set{DynamicPPL.Selector}}}}, Float64}, DynamicPPL.Model{typeof(schools), (:y, :σ), (), (), Tuple{Vector{Float64}, Vector{Float64}}, Tuple{}, DynamicPPL.DefaultContext}, DynamicPPL.SamplingContext{DynamicPPL.Sampler{NUTS{AutoForwardDiff{nothing, Nothing}, (), AdvancedHMC.DiagEuclideanMetric}}, DynamicPPL.DefaultContext, Random.TaskLocalRNG}}, ForwardDiff.Chunk{10}, ForwardDiff.Tag{DynamicPPL.DynamicPPLTag, Float64}, ForwardDiff.GradientConfig{ForwardDiff.Tag{DynamicPPL.DynamicPPLTag, Float64}, Float64, 10, Vector{ForwardDiff.Dual{ForwardDiff.Tag{DynamicPPL.DynamicPPLTag, Float64}, Float64, 10}}}}}, Turing.Inference.var\"#∂logπ∂θ#32\"{LogDensityProblemsADForwardDiffExt.ForwardDiffLogDensity{LogDensityFunction{DynamicPPL.TypedVarInfo{@NamedTuple{μ::DynamicPPL.Metadata{Dict{AbstractPPL.VarName{:μ, typeof(identity)}, Int64}, Vector{Normal{Float64}}, Vector{AbstractPPL.VarName{:μ, typeof(identity)}}, Vector{Float64}, Vector{Set{DynamicPPL.Selector}}}, τ::DynamicPPL.Metadata{Dict{AbstractPPL.VarName{:τ, typeof(identity)}, Int64}, Vector{Truncated{Cauchy{Float64}, Continuous, Float64, Float64, Nothing}}, Vector{AbstractPPL.VarName{:τ, typeof(identity)}}, Vector{Float64}, Vector{Set{DynamicPPL.Selector}}}, θ::DynamicPPL.Metadata{Dict{AbstractPPL.VarName{:θ, typeof(identity)}, Int64}, Vector{DistributionsAD.TuringScalMvNormal{Vector{Float64}, Float64}}, Vector{AbstractPPL.VarName{:θ, typeof(identity)}}, Vector{Float64}, Vector{Set{DynamicPPL.Selector}}}}, Float64}, DynamicPPL.Model{typeof(schools), (:y, :σ), (), (), Tuple{Vector{Float64}, Vector{Float64}}, Tuple{}, DynamicPPL.DefaultContext}, DynamicPPL.SamplingContext{DynamicPPL.Sampler{NUTS{AutoForwardDiff{nothing, Nothing}, (), AdvancedHMC.DiagEuclideanMetric}}, DynamicPPL.DefaultContext, Random.TaskLocalRNG}}, ForwardDiff.Chunk{10}, ForwardDiff.Tag{DynamicPPL.DynamicPPLTag, Float64}, ForwardDiff.GradientConfig{ForwardDiff.Tag{DynamicPPL.DynamicPPLTag, Float64}, Float64, 10, Vector{ForwardDiff.Dual{ForwardDiff.Tag{DynamicPPL.DynamicPPLTag, Float64}, Float64, 10}}}}}}, z::AdvancedHMC.PhasePoint{Vector{Float64}, AdvancedHMC.DualValue{Float64, Vector{Float64}}}, sampler::AdvancedHMC.MultinomialTS{Float64}, v::Int64, j::Int64, H0::Float64)\n",
      "        @ AdvancedHMC ~/.julia/packages/AdvancedHMC/AlvV4/src/trajectory.jl:639\n",
      "     [19] build_tree(rng::Random.TaskLocalRNG, nt::AdvancedHMC.Trajectory{AdvancedHMC.MultinomialTS, AdvancedHMC.Leapfrog{Float64}, AdvancedHMC.GeneralisedNoUTurn{Float64}}, h::AdvancedHMC.Hamiltonian{AdvancedHMC.DiagEuclideanMetric{Float64, Vector{Float64}}, AdvancedHMC.GaussianKinetic, Base.Fix1{typeof(LogDensityProblems.logdensity), LogDensityProblemsADForwardDiffExt.ForwardDiffLogDensity{LogDensityFunction{DynamicPPL.TypedVarInfo{@NamedTuple{μ::DynamicPPL.Metadata{Dict{AbstractPPL.VarName{:μ, typeof(identity)}, Int64}, Vector{Normal{Float64}}, Vector{AbstractPPL.VarName{:μ, typeof(identity)}}, Vector{Float64}, Vector{Set{DynamicPPL.Selector}}}, τ::DynamicPPL.Metadata{Dict{AbstractPPL.VarName{:τ, typeof(identity)}, Int64}, Vector{Truncated{Cauchy{Float64}, Continuous, Float64, Float64, Nothing}}, Vector{AbstractPPL.VarName{:τ, typeof(identity)}}, Vector{Float64}, Vector{Set{DynamicPPL.Selector}}}, θ::DynamicPPL.Metadata{Dict{AbstractPPL.VarName{:θ, typeof(identity)}, Int64}, Vector{DistributionsAD.TuringScalMvNormal{Vector{Float64}, Float64}}, Vector{AbstractPPL.VarName{:θ, typeof(identity)}}, Vector{Float64}, Vector{Set{DynamicPPL.Selector}}}}, Float64}, DynamicPPL.Model{typeof(schools), (:y, :σ), (), (), Tuple{Vector{Float64}, Vector{Float64}}, Tuple{}, DynamicPPL.DefaultContext}, DynamicPPL.SamplingContext{DynamicPPL.Sampler{NUTS{AutoForwardDiff{nothing, Nothing}, (), AdvancedHMC.DiagEuclideanMetric}}, DynamicPPL.DefaultContext, Random.TaskLocalRNG}}, ForwardDiff.Chunk{10}, ForwardDiff.Tag{DynamicPPL.DynamicPPLTag, Float64}, ForwardDiff.GradientConfig{ForwardDiff.Tag{DynamicPPL.DynamicPPLTag, Float64}, Float64, 10, Vector{ForwardDiff.Dual{ForwardDiff.Tag{DynamicPPL.DynamicPPLTag, Float64}, Float64, 10}}}}}, Turing.Inference.var\"#∂logπ∂θ#32\"{LogDensityProblemsADForwardDiffExt.ForwardDiffLogDensity{LogDensityFunction{DynamicPPL.TypedVarInfo{@NamedTuple{μ::DynamicPPL.Metadata{Dict{AbstractPPL.VarName{:μ, typeof(identity)}, Int64}, Vector{Normal{Float64}}, Vector{AbstractPPL.VarName{:μ, typeof(identity)}}, Vector{Float64}, Vector{Set{DynamicPPL.Selector}}}, τ::DynamicPPL.Metadata{Dict{AbstractPPL.VarName{:τ, typeof(identity)}, Int64}, Vector{Truncated{Cauchy{Float64}, Continuous, Float64, Float64, Nothing}}, Vector{AbstractPPL.VarName{:τ, typeof(identity)}}, Vector{Float64}, Vector{Set{DynamicPPL.Selector}}}, θ::DynamicPPL.Metadata{Dict{AbstractPPL.VarName{:θ, typeof(identity)}, Int64}, Vector{DistributionsAD.TuringScalMvNormal{Vector{Float64}, Float64}}, Vector{AbstractPPL.VarName{:θ, typeof(identity)}}, Vector{Float64}, Vector{Set{DynamicPPL.Selector}}}}, Float64}, DynamicPPL.Model{typeof(schools), (:y, :σ), (), (), Tuple{Vector{Float64}, Vector{Float64}}, Tuple{}, DynamicPPL.DefaultContext}, DynamicPPL.SamplingContext{DynamicPPL.Sampler{NUTS{AutoForwardDiff{nothing, Nothing}, (), AdvancedHMC.DiagEuclideanMetric}}, DynamicPPL.DefaultContext, Random.TaskLocalRNG}}, ForwardDiff.Chunk{10}, ForwardDiff.Tag{DynamicPPL.DynamicPPLTag, Float64}, ForwardDiff.GradientConfig{ForwardDiff.Tag{DynamicPPL.DynamicPPLTag, Float64}, Float64, 10, Vector{ForwardDiff.Dual{ForwardDiff.Tag{DynamicPPL.DynamicPPLTag, Float64}, Float64, 10}}}}}}, z::AdvancedHMC.PhasePoint{Vector{Float64}, AdvancedHMC.DualValue{Float64, Vector{Float64}}}, sampler::AdvancedHMC.MultinomialTS{Float64}, v::Int64, j::Int64, H0::Float64)\n",
      "        @ AdvancedHMC ~/.julia/packages/AdvancedHMC/AlvV4/src/trajectory.jl:654\n",
      "     [20] transition(rng::Random.TaskLocalRNG, τ::AdvancedHMC.Trajectory{AdvancedHMC.MultinomialTS, AdvancedHMC.Leapfrog{Float64}, AdvancedHMC.GeneralisedNoUTurn{Float64}}, h::AdvancedHMC.Hamiltonian{AdvancedHMC.DiagEuclideanMetric{Float64, Vector{Float64}}, AdvancedHMC.GaussianKinetic, Base.Fix1{typeof(LogDensityProblems.logdensity), LogDensityProblemsADForwardDiffExt.ForwardDiffLogDensity{LogDensityFunction{DynamicPPL.TypedVarInfo{@NamedTuple{μ::DynamicPPL.Metadata{Dict{AbstractPPL.VarName{:μ, typeof(identity)}, Int64}, Vector{Normal{Float64}}, Vector{AbstractPPL.VarName{:μ, typeof(identity)}}, Vector{Float64}, Vector{Set{DynamicPPL.Selector}}}, τ::DynamicPPL.Metadata{Dict{AbstractPPL.VarName{:τ, typeof(identity)}, Int64}, Vector{Truncated{Cauchy{Float64}, Continuous, Float64, Float64, Nothing}}, Vector{AbstractPPL.VarName{:τ, typeof(identity)}}, Vector{Float64}, Vector{Set{DynamicPPL.Selector}}}, θ::DynamicPPL.Metadata{Dict{AbstractPPL.VarName{:θ, typeof(identity)}, Int64}, Vector{DistributionsAD.TuringScalMvNormal{Vector{Float64}, Float64}}, Vector{AbstractPPL.VarName{:θ, typeof(identity)}}, Vector{Float64}, Vector{Set{DynamicPPL.Selector}}}}, Float64}, DynamicPPL.Model{typeof(schools), (:y, :σ), (), (), Tuple{Vector{Float64}, Vector{Float64}}, Tuple{}, DynamicPPL.DefaultContext}, DynamicPPL.SamplingContext{DynamicPPL.Sampler{NUTS{AutoForwardDiff{nothing, Nothing}, (), AdvancedHMC.DiagEuclideanMetric}}, DynamicPPL.DefaultContext, Random.TaskLocalRNG}}, ForwardDiff.Chunk{10}, ForwardDiff.Tag{DynamicPPL.DynamicPPLTag, Float64}, ForwardDiff.GradientConfig{ForwardDiff.Tag{DynamicPPL.DynamicPPLTag, Float64}, Float64, 10, Vector{ForwardDiff.Dual{ForwardDiff.Tag{DynamicPPL.DynamicPPLTag, Float64}, Float64, 10}}}}}, Turing.Inference.var\"#∂logπ∂θ#32\"{LogDensityProblemsADForwardDiffExt.ForwardDiffLogDensity{LogDensityFunction{DynamicPPL.TypedVarInfo{@NamedTuple{μ::DynamicPPL.Metadata{Dict{AbstractPPL.VarName{:μ, typeof(identity)}, Int64}, Vector{Normal{Float64}}, Vector{AbstractPPL.VarName{:μ, typeof(identity)}}, Vector{Float64}, Vector{Set{DynamicPPL.Selector}}}, τ::DynamicPPL.Metadata{Dict{AbstractPPL.VarName{:τ, typeof(identity)}, Int64}, Vector{Truncated{Cauchy{Float64}, Continuous, Float64, Float64, Nothing}}, Vector{AbstractPPL.VarName{:τ, typeof(identity)}}, Vector{Float64}, Vector{Set{DynamicPPL.Selector}}}, θ::DynamicPPL.Metadata{Dict{AbstractPPL.VarName{:θ, typeof(identity)}, Int64}, Vector{DistributionsAD.TuringScalMvNormal{Vector{Float64}, Float64}}, Vector{AbstractPPL.VarName{:θ, typeof(identity)}}, Vector{Float64}, Vector{Set{DynamicPPL.Selector}}}}, Float64}, DynamicPPL.Model{typeof(schools), (:y, :σ), (), (), Tuple{Vector{Float64}, Vector{Float64}}, Tuple{}, DynamicPPL.DefaultContext}, DynamicPPL.SamplingContext{DynamicPPL.Sampler{NUTS{AutoForwardDiff{nothing, Nothing}, (), AdvancedHMC.DiagEuclideanMetric}}, DynamicPPL.DefaultContext, Random.TaskLocalRNG}}, ForwardDiff.Chunk{10}, ForwardDiff.Tag{DynamicPPL.DynamicPPLTag, Float64}, ForwardDiff.GradientConfig{ForwardDiff.Tag{DynamicPPL.DynamicPPLTag, Float64}, Float64, 10, Vector{ForwardDiff.Dual{ForwardDiff.Tag{DynamicPPL.DynamicPPLTag, Float64}, Float64, 10}}}}}}, z0::AdvancedHMC.PhasePoint{Vector{Float64}, AdvancedHMC.DualValue{Float64, Vector{Float64}}})\n",
      "        @ AdvancedHMC ~/.julia/packages/AdvancedHMC/AlvV4/src/trajectory.jl:703\n",
      "     [21] transition\n",
      "        @ ~/.julia/packages/AdvancedHMC/AlvV4/src/sampler.jl:59 [inlined]\n",
      "     [22] step(rng::Random.TaskLocalRNG, model::DynamicPPL.Model{typeof(schools), (:y, :σ), (), (), Tuple{Vector{Float64}, Vector{Float64}}, Tuple{}, DynamicPPL.DefaultContext}, spl::DynamicPPL.Sampler{NUTS{AutoForwardDiff{nothing, Nothing}, (), AdvancedHMC.DiagEuclideanMetric}}, state::Turing.Inference.HMCState{DynamicPPL.TypedVarInfo{@NamedTuple{μ::DynamicPPL.Metadata{Dict{AbstractPPL.VarName{:μ, typeof(identity)}, Int64}, Vector{Normal{Float64}}, Vector{AbstractPPL.VarName{:μ, typeof(identity)}}, Vector{Float64}, Vector{Set{DynamicPPL.Selector}}}, τ::DynamicPPL.Metadata{Dict{AbstractPPL.VarName{:τ, typeof(identity)}, Int64}, Vector{Truncated{Cauchy{Float64}, Continuous, Float64, Float64, Nothing}}, Vector{AbstractPPL.VarName{:τ, typeof(identity)}}, Vector{Float64}, Vector{Set{DynamicPPL.Selector}}}, θ::DynamicPPL.Metadata{Dict{AbstractPPL.VarName{:θ, typeof(identity)}, Int64}, Vector{DistributionsAD.TuringScalMvNormal{Vector{Float64}, Float64}}, Vector{AbstractPPL.VarName{:θ, typeof(identity)}}, Vector{Float64}, Vector{Set{DynamicPPL.Selector}}}}, Float64}, AdvancedHMC.HMCKernel{AdvancedHMC.FullMomentumRefreshment, AdvancedHMC.Trajectory{AdvancedHMC.MultinomialTS, AdvancedHMC.Leapfrog{Float64}, AdvancedHMC.GeneralisedNoUTurn{Float64}}}, AdvancedHMC.Hamiltonian{AdvancedHMC.DiagEuclideanMetric{Float64, Vector{Float64}}, AdvancedHMC.GaussianKinetic, Base.Fix1{typeof(LogDensityProblems.logdensity), LogDensityProblemsADForwardDiffExt.ForwardDiffLogDensity{LogDensityFunction{DynamicPPL.TypedVarInfo{@NamedTuple{μ::DynamicPPL.Metadata{Dict{AbstractPPL.VarName{:μ, typeof(identity)}, Int64}, Vector{Normal{Float64}}, Vector{AbstractPPL.VarName{:μ, typeof(identity)}}, Vector{Float64}, Vector{Set{DynamicPPL.Selector}}}, τ::DynamicPPL.Metadata{Dict{AbstractPPL.VarName{:τ, typeof(identity)}, Int64}, Vector{Truncated{Cauchy{Float64}, Continuous, Float64, Float64, Nothing}}, Vector{AbstractPPL.VarName{:τ, typeof(identity)}}, Vector{Float64}, Vector{Set{DynamicPPL.Selector}}}, θ::DynamicPPL.Metadata{Dict{AbstractPPL.VarName{:θ, typeof(identity)}, Int64}, Vector{DistributionsAD.TuringScalMvNormal{Vector{Float64}, Float64}}, Vector{AbstractPPL.VarName{:θ, typeof(identity)}}, Vector{Float64}, Vector{Set{DynamicPPL.Selector}}}}, Float64}, DynamicPPL.Model{typeof(schools), (:y, :σ), (), (), Tuple{Vector{Float64}, Vector{Float64}}, Tuple{}, DynamicPPL.DefaultContext}, DynamicPPL.SamplingContext{DynamicPPL.Sampler{NUTS{AutoForwardDiff{nothing, Nothing}, (), AdvancedHMC.DiagEuclideanMetric}}, DynamicPPL.DefaultContext, Random.TaskLocalRNG}}, ForwardDiff.Chunk{10}, ForwardDiff.Tag{DynamicPPL.DynamicPPLTag, Float64}, ForwardDiff.GradientConfig{ForwardDiff.Tag{DynamicPPL.DynamicPPLTag, Float64}, Float64, 10, Vector{ForwardDiff.Dual{ForwardDiff.Tag{DynamicPPL.DynamicPPLTag, Float64}, Float64, 10}}}}}, Turing.Inference.var\"#∂logπ∂θ#32\"{LogDensityProblemsADForwardDiffExt.ForwardDiffLogDensity{LogDensityFunction{DynamicPPL.TypedVarInfo{@NamedTuple{μ::DynamicPPL.Metadata{Dict{AbstractPPL.VarName{:μ, typeof(identity)}, Int64}, Vector{Normal{Float64}}, Vector{AbstractPPL.VarName{:μ, typeof(identity)}}, Vector{Float64}, Vector{Set{DynamicPPL.Selector}}}, τ::DynamicPPL.Metadata{Dict{AbstractPPL.VarName{:τ, typeof(identity)}, Int64}, Vector{Truncated{Cauchy{Float64}, Continuous, Float64, Float64, Nothing}}, Vector{AbstractPPL.VarName{:τ, typeof(identity)}}, Vector{Float64}, Vector{Set{DynamicPPL.Selector}}}, θ::DynamicPPL.Metadata{Dict{AbstractPPL.VarName{:θ, typeof(identity)}, Int64}, Vector{DistributionsAD.TuringScalMvNormal{Vector{Float64}, Float64}}, Vector{AbstractPPL.VarName{:θ, typeof(identity)}}, Vector{Float64}, Vector{Set{DynamicPPL.Selector}}}}, Float64}, DynamicPPL.Model{typeof(schools), (:y, :σ), (), (), Tuple{Vector{Float64}, Vector{Float64}}, Tuple{}, DynamicPPL.DefaultContext}, DynamicPPL.SamplingContext{DynamicPPL.Sampler{NUTS{AutoForwardDiff{nothing, Nothing}, (), AdvancedHMC.DiagEuclideanMetric}}, DynamicPPL.DefaultContext, Random.TaskLocalRNG}}, ForwardDiff.Chunk{10}, ForwardDiff.Tag{DynamicPPL.DynamicPPLTag, Float64}, ForwardDiff.GradientConfig{ForwardDiff.Tag{DynamicPPL.DynamicPPLTag, Float64}, Float64, 10, Vector{ForwardDiff.Dual{ForwardDiff.Tag{DynamicPPL.DynamicPPLTag, Float64}, Float64, 10}}}}}}, AdvancedHMC.PhasePoint{Vector{Float64}, AdvancedHMC.DualValue{Float64, Vector{Float64}}}, AdvancedHMC.Adaptation.StanHMCAdaptor{AdvancedHMC.Adaptation.WelfordVar{Float64, Vector{Float64}}, AdvancedHMC.Adaptation.NesterovDualAveraging{Float64}}}; nadapts::Int64, kwargs::@Kwargs{initial_params::Nothing, n_adapts::Int64})\n",
      "        @ Turing.Inference ~/.julia/packages/Turing/r3Hmj/src/mcmc/hmc.jl:261\n",
      "     [23] macro expansion\n",
      "        @ ~/.julia/packages/AbstractMCMC/YrmkI/src/sample.jl:176 [inlined]\n",
      "     [24] macro expansion\n",
      "        @ ~/.julia/packages/AbstractMCMC/YrmkI/src/logging.jl:16 [inlined]\n",
      "     [25] mcmcsample(rng::Random.TaskLocalRNG, model::DynamicPPL.Model{typeof(schools), (:y, :σ), (), (), Tuple{Vector{Float64}, Vector{Float64}}, Tuple{}, DynamicPPL.DefaultContext}, sampler::DynamicPPL.Sampler{NUTS{AutoForwardDiff{nothing, Nothing}, (), AdvancedHMC.DiagEuclideanMetric}}, N::Int64; progress::Bool, progressname::String, callback::Nothing, discard_initial::Int64, thinning::Int64, chain_type::Type, initial_state::Nothing, kwargs::@Kwargs{nadapts::Int64, initial_params::Nothing, n_adapts::Int64})\n",
      "        @ AbstractMCMC ~/.julia/packages/AbstractMCMC/YrmkI/src/sample.jl:120\n",
      "     [26] mcmcsample\n",
      "        @ ~/.julia/packages/AbstractMCMC/YrmkI/src/sample.jl:98 [inlined]\n",
      "     [27] #sample#30\n",
      "        @ ~/.julia/packages/Turing/r3Hmj/src/mcmc/hmc.jl:123 [inlined]\n",
      "     [28] sample\n",
      "        @ ~/.julia/packages/Turing/r3Hmj/src/mcmc/hmc.jl:92 [inlined]\n",
      "     [29] (::AbstractMCMC.var\"#sample_chain#73\"{Bool, @Kwargs{chain_type::UnionAll, n_adapts::Int64}, Random.TaskLocalRNG, DynamicPPL.Model{typeof(schools), (:y, :σ), (), (), Tuple{Vector{Float64}, Vector{Float64}}, Tuple{}, DynamicPPL.DefaultContext}, DynamicPPL.Sampler{NUTS{AutoForwardDiff{nothing, Nothing}, (), AdvancedHMC.DiagEuclideanMetric}}, Int64})(seed::UInt64, initial_params::Nothing, initial_state::Nothing)\n",
      "        @ AbstractMCMC ~/.julia/packages/AbstractMCMC/YrmkI/src/sample.jl:483\n",
      "     [30] #231\n",
      "        @ ~/.julia/juliaup/julia-1.10.5+0.x64.linux.gnu/share/julia/stdlib/v1.10/Distributed/src/pmap.jl:155 [inlined]\n",
      "     [31] (::Base.var\"#1023#1028\"{Distributed.var\"#231#232\"{AbstractMCMC.var\"#sample_chain#73\"{Bool, @Kwargs{chain_type::UnionAll, n_adapts::Int64}, Random.TaskLocalRNG, DynamicPPL.Model{typeof(schools), (:y, :σ), (), (), Tuple{Vector{Float64}, Vector{Float64}}, Tuple{}, DynamicPPL.DefaultContext}, DynamicPPL.Sampler{NUTS{AutoForwardDiff{nothing, Nothing}, (), AdvancedHMC.DiagEuclideanMetric}}, Int64}}})(r::Base.RefValue{Any}, args::Tuple{Tuple{UInt64, Nothing, Nothing}})\n",
      "        @ Base ./asyncmap.jl:94\n",
      "     [32] (::Base.var\"#1039#1040\"{Base.var\"#1023#1028\"{Distributed.var\"#231#232\"{AbstractMCMC.var\"#sample_chain#73\"{Bool, @Kwargs{chain_type::UnionAll, n_adapts::Int64}, Random.TaskLocalRNG, DynamicPPL.Model{typeof(schools), (:y, :σ), (), (), Tuple{Vector{Float64}, Vector{Float64}}, Tuple{}, DynamicPPL.DefaultContext}, DynamicPPL.Sampler{NUTS{AutoForwardDiff{nothing, Nothing}, (), AdvancedHMC.DiagEuclideanMetric}}, Int64}}}, Channel{Any}, Nothing})()\n",
      "        @ Base ./asyncmap.jl:228\n",
      "    Stacktrace:\n",
      "      [1] (::Base.var\"#1033#1035\")(x::Task)\n",
      "        @ Base ./asyncmap.jl:171\n",
      "      [2] foreach(f::Base.var\"#1033#1035\", itr::Vector{Any})\n",
      "        @ Base ./abstractarray.jl:3097\n",
      "      [3] maptwice(wrapped_f::Function, chnl::Channel{Any}, worker_tasks::Vector{Any}, c::Base.Iterators.Zip{Tuple{Vector{UInt64}, FillArrays.Fill{Nothing, 1, Tuple{Base.OneTo{Int64}}}, FillArrays.Fill{Nothing, 1, Tuple{Base.OneTo{Int64}}}}})\n",
      "        @ Base ./asyncmap.jl:171\n",
      "      [4] wrap_n_exec_twice\n",
      "        @ ./asyncmap.jl:147 [inlined]\n",
      "      [5] #async_usemap#1018\n",
      "        @ ./asyncmap.jl:97 [inlined]\n",
      "      [6] async_usemap\n",
      "        @ ./asyncmap.jl:78 [inlined]\n",
      "      [7] #asyncmap#1017\n",
      "        @ ./asyncmap.jl:75 [inlined]\n",
      "      [8] asyncmap\n",
      "        @ ./asyncmap.jl:74 [inlined]\n",
      "      [9] pmap(f::Function, p::CachingPool, c::Base.Iterators.Zip{Tuple{Vector{UInt64}, FillArrays.Fill{Nothing, 1, Tuple{Base.OneTo{Int64}}}, FillArrays.Fill{Nothing, 1, Tuple{Base.OneTo{Int64}}}}}; distributed::Bool, batch_size::Int64, on_error::Nothing, retry_delays::Vector{Any}, retry_check::Nothing)\n",
      "        @ Distributed ~/.julia/juliaup/julia-1.10.5+0.x64.linux.gnu/share/julia/stdlib/v1.10/Distributed/src/pmap.jl:126\n",
      "     [10] pmap\n",
      "        @ ~/.julia/juliaup/julia-1.10.5+0.x64.linux.gnu/share/julia/stdlib/v1.10/Distributed/src/pmap.jl:99 [inlined]\n",
      "     [11] pmap\n",
      "        @ ~/.julia/juliaup/julia-1.10.5+0.x64.linux.gnu/share/julia/stdlib/v1.10/Distributed/src/pmap.jl:155 [inlined]\n",
      "     [12] (::AbstractMCMC.var\"#61#72\"{Bool, @Kwargs{chain_type::UnionAll, n_adapts::Int64}, Random.TaskLocalRNG, DynamicPPL.Model{typeof(schools), (:y, :σ), (), (), Tuple{Vector{Float64}, Vector{Float64}}, Tuple{}, DynamicPPL.DefaultContext}, DynamicPPL.Sampler{NUTS{AutoForwardDiff{nothing, Nothing}, (), AdvancedHMC.DiagEuclideanMetric}}, Int64, CachingPool, Vector{UInt64}, FillArrays.Fill{Nothing, 1, Tuple{Base.OneTo{Int64}}}, FillArrays.Fill{Nothing, 1, Tuple{Base.OneTo{Int64}}}})()\n",
      "        @ AbstractMCMC ~/.julia/packages/AbstractMCMC/YrmkI/src/sample.jl:500\n",
      "\n",
      "Stacktrace:\n",
      "  [1] sync_end(c::Channel{Any})\n",
      "    @ Base ./task.jl:455\n",
      "  [2] macro expansion\n",
      "    @ ./task.jl:487 [inlined]\n",
      "  [3] macro expansion\n",
      "    @ ~/.julia/packages/AbstractMCMC/YrmkI/src/sample.jl:456 [inlined]\n",
      "  [4] macro expansion\n",
      "    @ ~/.julia/packages/ProgressLogging/6KXlp/src/ProgressLogging.jl:328 [inlined]\n",
      "  [5] (::AbstractMCMC.var\"#58#69\"{Bool, String, @Kwargs{chain_type::UnionAll, n_adapts::Int64}, Random.TaskLocalRNG, DynamicPPL.Model{typeof(schools), (:y, :σ), (), (), Tuple{Vector{Float64}, Vector{Float64}}, Tuple{}, DynamicPPL.DefaultContext}, DynamicPPL.Sampler{NUTS{AutoForwardDiff{nothing, Nothing}, (), AdvancedHMC.DiagEuclideanMetric}}, Int64, Int64, CachingPool, Vector{UInt64}, FillArrays.Fill{Nothing, 1, Tuple{Base.OneTo{Int64}}}, FillArrays.Fill{Nothing, 1, Tuple{Base.OneTo{Int64}}}})()\n",
      "    @ AbstractMCMC ~/.julia/packages/AbstractMCMC/YrmkI/src/logging.jl:12\n",
      "  [6] with_logstate(f::Function, logstate::Any)\n",
      "    @ Base.CoreLogging ./logging.jl:515\n",
      "  [7] with_logger(f::Function, logger::LoggingExtras.TeeLogger{Tuple{LoggingExtras.EarlyFilteredLogger{TerminalLoggers.TerminalLogger, AbstractMCMC.var\"#1#3\"{Module}}, LoggingExtras.EarlyFilteredLogger{Base.CoreLogging.SimpleLogger, AbstractMCMC.var\"#2#4\"{Module}}}})\n",
      "    @ Base.CoreLogging ./logging.jl:627\n",
      "  [8] with_progresslogger(f::Function, _module::Module, logger::Base.CoreLogging.SimpleLogger)\n",
      "    @ AbstractMCMC ~/.julia/packages/AbstractMCMC/YrmkI/src/logging.jl:36\n",
      "  [9] macro expansion\n",
      "    @ ~/.julia/packages/AbstractMCMC/YrmkI/src/logging.jl:11 [inlined]\n",
      " [10] mcmcsample(rng::Random.TaskLocalRNG, model::DynamicPPL.Model{typeof(schools), (:y, :σ), (), (), Tuple{Vector{Float64}, Vector{Float64}}, Tuple{}, DynamicPPL.DefaultContext}, sampler::DynamicPPL.Sampler{NUTS{AutoForwardDiff{nothing, Nothing}, (), AdvancedHMC.DiagEuclideanMetric}}, ::MCMCDistributed, N::Int64, nchains::Int64; progress::Bool, progressname::String, initial_params::Nothing, initial_state::Nothing, kwargs::@Kwargs{chain_type::UnionAll, n_adapts::Int64})\n",
      "    @ AbstractMCMC ~/.julia/packages/AbstractMCMC/YrmkI/src/sample.jl:450\n",
      " [11] sample(rng::Random.TaskLocalRNG, model::DynamicPPL.Model{typeof(schools), (:y, :σ), (), (), Tuple{Vector{Float64}, Vector{Float64}}, Tuple{}, DynamicPPL.DefaultContext}, sampler::DynamicPPL.Sampler{NUTS{AutoForwardDiff{nothing, Nothing}, (), AdvancedHMC.DiagEuclideanMetric}}, ensemble::MCMCDistributed, N::Int64, n_chains::Int64; chain_type::Type, progress::Bool, kwargs::@Kwargs{n_adapts::Int64})\n",
      "    @ Turing.Inference ~/.julia/packages/Turing/r3Hmj/src/mcmc/Inference.jl:315\n",
      " [12] sample\n",
      "    @ ~/.julia/packages/Turing/r3Hmj/src/mcmc/Inference.jl:304 [inlined]\n",
      " [13] #sample#6\n",
      "    @ ~/.julia/packages/Turing/r3Hmj/src/mcmc/Inference.jl:300 [inlined]\n",
      " [14] sample\n",
      "    @ ~/.julia/packages/Turing/r3Hmj/src/mcmc/Inference.jl:289 [inlined]\n",
      " [15] #sample#5\n",
      "    @ ~/.julia/packages/Turing/r3Hmj/src/mcmc/Inference.jl:285 [inlined]\n",
      " [16] top-level scope\n",
      "    @ ~/github/Bac_a_sable_Monte_Carlo/EnsembleSliceSampler/Julia/jl_notebook_cell_df34fa98e69747e1a8f8a730347b8e2f_W4sZmlsZQ==.jl:1"
     ]
    }
   ],
   "source": [
    "c1 = sample(schools(y, σ), NUTS(0.8),MCMCDistributed(), 2_000,12,n_adapts=1000)"
   ]
  },
  {
   "cell_type": "code",
   "execution_count": null,
   "metadata": {},
   "outputs": [],
   "source": [
    "c2 = sample(school_reparam(y, σ), NUTS(0.8),MCMCDistributed(), 2_000,12,n_adapts=1000)"
   ]
  },
  {
   "cell_type": "markdown",
   "metadata": {},
   "source": [
    "#### Emcee"
   ]
  },
  {
   "cell_type": "code",
   "execution_count": null,
   "metadata": {},
   "outputs": [],
   "source": [
    "c3 = sample(schools(y, σ), Emcee(50),20_000)"
   ]
  },
  {
   "cell_type": "code",
   "execution_count": null,
   "metadata": {},
   "outputs": [],
   "source": [
    "c4 = sample(school_reparam(y, σ), Emcee(50),20_000)"
   ]
  },
  {
   "cell_type": "markdown",
   "metadata": {},
   "source": [
    "## Using MicroCanonical HMC"
   ]
  },
  {
   "cell_type": "code",
   "execution_count": 11,
   "metadata": {},
   "outputs": [],
   "source": [
    "@everywhere begin\n",
    "\tusing MicroCanonicalHMC\n",
    "\tn_adapts = 2_000 # adaptation steps\n",
    "\ttev = 0.001 # target energy variance\n",
    "\tmchmc = MCHMC(n_adapts, tev; adaptive = true)\n",
    "end"
   ]
  },
  {
   "cell_type": "code",
   "execution_count": null,
   "metadata": {},
   "outputs": [],
   "source": [
    "c5 = sample(schools(y, σ), externalsampler(mchmc),MCMCDistributed(), 10_000,6)"
   ]
  },
  {
   "cell_type": "code",
   "execution_count": null,
   "metadata": {},
   "outputs": [],
   "source": [
    "c6 = sample(school_reparam(y, σ), externalsampler(mchmc),MCMCDistributed(), 10_000,6)"
   ]
  },
  {
   "cell_type": "code",
   "execution_count": null,
   "metadata": {},
   "outputs": [],
   "source": [
    "plot(c1)"
   ]
  },
  {
   "cell_type": "code",
   "execution_count": null,
   "metadata": {},
   "outputs": [],
   "source": [
    "plot(c2)"
   ]
  },
  {
   "cell_type": "code",
   "execution_count": null,
   "metadata": {},
   "outputs": [],
   "source": [
    "plot(c3)"
   ]
  },
  {
   "cell_type": "code",
   "execution_count": null,
   "metadata": {},
   "outputs": [],
   "source": [
    "plot(c4)"
   ]
  },
  {
   "cell_type": "code",
   "execution_count": null,
   "metadata": {},
   "outputs": [],
   "source": [
    "plot(c5)"
   ]
  },
  {
   "cell_type": "code",
   "execution_count": null,
   "metadata": {},
   "outputs": [],
   "source": [
    "plot(c6)"
   ]
  },
  {
   "cell_type": "code",
   "execution_count": null,
   "metadata": {},
   "outputs": [],
   "source": []
  }
 ],
 "metadata": {
  "kernelspec": {
   "display_name": "Julia 1.10.5",
   "language": "julia",
   "name": "julia-1.10"
  },
  "language_info": {
   "file_extension": ".jl",
   "mimetype": "application/julia",
   "name": "julia",
   "version": "1.10.5"
  }
 },
 "nbformat": 4,
 "nbformat_minor": 2
}
