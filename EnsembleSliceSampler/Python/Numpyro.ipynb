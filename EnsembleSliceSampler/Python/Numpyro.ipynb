{
 "cells": [
  {
   "cell_type": "code",
   "execution_count": 1,
   "metadata": {},
   "outputs": [],
   "source": [
    "import jax\n",
    "import jax.numpy as jnp\n",
    "import numpyro\n",
    "import numpyro.distributions as dist\n",
    "from numpyro.infer.reparam import LocScaleReparam\n",
    "from numpyro.infer import MCMC, ESS, NUTS,AIES"
   ]
  },
  {
   "cell_type": "markdown",
   "metadata": {},
   "source": [
    "Let's use the classical example for Bayesian inference: the eight schools problem.\n",
    "https://num.pyro.ai/en/stable/getting_started.html\n",
    "\n",
    "Which can be described as follows:\n",
    "\n",
    "\\begin{align*}\n",
    "y_j &\\sim \\text{Normal}(\\theta_j, \\sigma_j) \\\\\n",
    "\\theta_j &\\sim \\text{Normal}(\\mu, \\tau) \\\\\n",
    "\\mu &\\sim \\text{Normal}(0, 5) \\\\\n",
    "\\tau &\\sim \\text{HalfCauchy}(0, 5)\n",
    "\\end{align*}"
   ]
  },
  {
   "cell_type": "code",
   "execution_count": 2,
   "metadata": {},
   "outputs": [],
   "source": [
    "J = 8\n",
    "y = jnp.array([28.0, 8.0, -3.0, 7.0, -1.0, 1.0, 18.0, 12.0])\n",
    "sigma = jnp.array([15.0, 10.0, 16.0, 11.0, 9.0, 11.0, 10.0, 18.0])\n",
    "\n",
    "\n",
    "def eight_schools_noreparm(J, sigma, y=None):\n",
    "    mu = numpyro.sample(\"mu\", dist.Normal(0, 5))\n",
    "    tau = numpyro.sample(\"tau\", dist.HalfCauchy(5))\n",
    "    with numpyro.plate(\"J\", J):\n",
    "        theta = numpyro.sample(\"theta\", dist.Normal(mu, tau))\n",
    "\n",
    "        numpyro.sample(\"obs\", dist.Normal(theta, sigma), obs=y)\n",
    "\n",
    "\n",
    "def eight_schools(J, sigma, y=None):\n",
    "    mu = numpyro.sample(\"mu\", dist.Normal(0, 5))\n",
    "    tau = numpyro.sample(\"tau\", dist.HalfCauchy(5))\n",
    "    with numpyro.plate(\"J\", J):\n",
    "        with numpyro.handlers.reparam(config={'theta': LocScaleReparam(centered=0)}):\n",
    "            theta = numpyro.sample(\"theta\", dist.Normal(mu, tau))\n",
    "\n",
    "        numpyro.sample(\"obs\", dist.Normal(theta, sigma), obs=y)"
   ]
  },
  {
   "cell_type": "markdown",
   "metadata": {},
   "source": [
    "#### Inference with the No-U-Turn Sampler (NUTS)"
   ]
  },
  {
   "cell_type": "code",
   "execution_count": 5,
   "metadata": {},
   "outputs": [
    {
     "name": "stderr",
     "output_type": "stream",
     "text": [
      "/tmp/ipykernel_408927/1808501665.py:2: UserWarning: There are not enough devices to run parallel chains: expected 12 but got 1. Chains will be drawn sequentially. If you are running MCMC in CPU, consider using `numpyro.set_host_device_count(12)` at the beginning of your program. You can double-check how many devices are available in your system using `jax.local_device_count()`.\n",
      "  mcmc = MCMC(nuts_kernel, num_warmup=1000, num_samples=2000,num_chains=12)\n",
      "sample: 100%|██████████| 3000/3000 [00:02<00:00, 1350.43it/s, 7 steps of size 4.13e-01. acc. prob=0.89]\n",
      "sample: 100%|██████████| 3000/3000 [00:00<00:00, 7188.07it/s, 15 steps of size 3.89e-01. acc. prob=0.93]\n",
      "sample: 100%|██████████| 3000/3000 [00:00<00:00, 7140.69it/s, 15 steps of size 4.12e-01. acc. prob=0.88]\n",
      "sample: 100%|██████████| 3000/3000 [00:00<00:00, 7340.02it/s, 7 steps of size 5.06e-01. acc. prob=0.85]\n",
      "sample: 100%|██████████| 3000/3000 [00:00<00:00, 7622.39it/s, 31 steps of size 4.27e-01. acc. prob=0.89]\n",
      "sample: 100%|██████████| 3000/3000 [00:00<00:00, 6145.35it/s, 7 steps of size 4.88e-01. acc. prob=0.85]\n",
      "sample: 100%|██████████| 3000/3000 [00:00<00:00, 6124.71it/s, 15 steps of size 3.68e-01. acc. prob=0.93]\n",
      "sample: 100%|██████████| 3000/3000 [00:00<00:00, 7297.40it/s, 7 steps of size 4.61e-01. acc. prob=0.86]\n",
      "sample: 100%|██████████| 3000/3000 [00:00<00:00, 6770.03it/s, 15 steps of size 3.75e-01. acc. prob=0.90]\n",
      "sample: 100%|██████████| 3000/3000 [00:00<00:00, 7061.42it/s, 15 steps of size 4.02e-01. acc. prob=0.91]\n",
      "sample: 100%|██████████| 3000/3000 [00:00<00:00, 7511.31it/s, 7 steps of size 4.89e-01. acc. prob=0.88]\n",
      "sample: 100%|██████████| 3000/3000 [00:00<00:00, 6937.21it/s, 7 steps of size 5.56e-01. acc. prob=0.86]\n"
     ]
    }
   ],
   "source": [
    "nuts_kernel = NUTS(eight_schools)\n",
    "mcmc = MCMC(nuts_kernel, num_warmup=1000, num_samples=2000,num_chains=12)\n",
    "\n",
    "rng_key = jax.random.PRNGKey(0)\n",
    "\n",
    "mcmc.run(rng_key, J, sigma, y=y)"
   ]
  },
  {
   "cell_type": "code",
   "execution_count": 6,
   "metadata": {},
   "outputs": [
    {
     "name": "stdout",
     "output_type": "stream",
     "text": [
      "\n",
      "                         mean       std    median      5.0%     95.0%     n_eff     r_hat\n",
      "                 mu      4.39      3.30      4.42     -1.02      9.79  21658.59      1.00\n",
      "                tau      3.65      3.28      2.77      0.00      7.88  15706.64      1.00\n",
      "           theta[0]      6.27      5.62      5.68     -2.53     14.74  22392.60      1.00\n",
      "           theta[1]      4.95      4.68      4.89     -2.49     12.56  24253.31      1.00\n",
      "           theta[2]      3.92      5.29      4.20     -4.27     12.20  22059.33      1.00\n",
      "           theta[3]      4.74      4.81      4.70     -3.13     12.23  26126.45      1.00\n",
      "           theta[4]      3.64      4.68      3.91     -3.67     11.26  25698.43      1.00\n",
      "           theta[5]      4.01      4.90      4.20     -3.60     12.04  25425.70      1.00\n",
      "           theta[6]      6.36      5.08      5.85     -1.48     14.61  23419.89      1.00\n",
      "           theta[7]      4.90      5.34      4.81     -3.60     13.03  24055.56      1.00\n",
      "theta_decentered[0]      0.32      0.99      0.34     -1.27      1.95  26467.37      1.00\n",
      "theta_decentered[1]      0.10      0.93      0.10     -1.44      1.63  26717.40      1.00\n",
      "theta_decentered[2]     -0.08      0.97     -0.09     -1.70      1.50  27763.32      1.00\n",
      "theta_decentered[3]      0.06      0.95      0.06     -1.51      1.58  25249.32      1.00\n",
      "theta_decentered[4]     -0.16      0.92     -0.15     -1.67      1.39  25323.80      1.00\n",
      "theta_decentered[5]     -0.08      0.94     -0.09     -1.63      1.49  25156.31      1.00\n",
      "theta_decentered[6]      0.37      0.96      0.39     -1.19      1.94  23544.80      1.00\n",
      "theta_decentered[7]      0.08      0.97      0.08     -1.48      1.72  28171.83      1.00\n",
      "\n",
      "Number of divergences: 2\n"
     ]
    }
   ],
   "source": [
    "mcmc.print_summary(exclude_deterministic=False)"
   ]
  },
  {
   "cell_type": "markdown",
   "metadata": {},
   "source": [
    "#### Inference with the Affine Invariant Ensemble Sampler (AIES)"
   ]
  },
  {
   "cell_type": "code",
   "execution_count": 7,
   "metadata": {},
   "outputs": [],
   "source": [
    "aies_kernel = AIES(eight_schools)\n",
    "mcmc = MCMC(aies_kernel, num_warmup=0, num_samples=20_000, num_chains=50, chain_method='vectorized')"
   ]
  },
  {
   "cell_type": "code",
   "execution_count": 8,
   "metadata": {},
   "outputs": [
    {
     "name": "stderr",
     "output_type": "stream",
     "text": [
      "sample: 100%|██████████| 20000/20000 [00:03<00:00, 5764.94it/s, acc. prob=0.37] \n"
     ]
    }
   ],
   "source": [
    "mcmc.run(rng_key, J, sigma, y=y)"
   ]
  },
  {
   "cell_type": "code",
   "execution_count": 9,
   "metadata": {},
   "outputs": [
    {
     "name": "stdout",
     "output_type": "stream",
     "text": [
      "\n",
      "                         mean       std    median      5.0%     95.0%     n_eff     r_hat\n",
      "                 mu      4.32      3.02      4.32     -0.69      9.29  25219.55      1.00\n",
      "                tau      4.11      3.33      3.31      0.00      8.44   2560.29      1.01\n",
      "           theta[0]      6.47      5.43      5.85     -1.88     14.71  29791.11      1.00\n",
      "           theta[1]      5.04      4.44      4.92     -2.27     11.98  30584.50      1.00\n",
      "           theta[2]      3.72      5.00      3.96     -4.06     11.66  30484.66      1.00\n",
      "           theta[3]      4.74      4.50      4.70     -2.46     11.98  30584.00      1.00\n",
      "           theta[4]      3.41      4.43      3.65     -3.70     10.58  28979.95      1.00\n",
      "           theta[5]      3.89      4.57      4.05     -3.35     11.26  29296.11      1.00\n",
      "           theta[6]      6.60      4.93      6.09     -1.24     14.30  29936.42      1.00\n",
      "           theta[7]      4.83      5.04      4.72     -3.08     12.68  30188.04      1.00\n",
      "theta_decentered[0]      0.36      0.89      0.38     -1.11      1.85  24219.41      1.00\n",
      "theta_decentered[1]      0.13      0.84      0.14     -1.27      1.50  23879.00      1.00\n",
      "theta_decentered[2]     -0.11      0.87     -0.12     -1.52      1.36  24454.42      1.00\n",
      "theta_decentered[3]      0.07      0.84      0.08     -1.32      1.46  22323.54      1.00\n",
      "theta_decentered[4]     -0.17      0.84     -0.18     -1.57      1.19  23308.97      1.00\n",
      "theta_decentered[5]     -0.09      0.84     -0.09     -1.49      1.29  23020.55      1.00\n",
      "theta_decentered[6]      0.41      0.86      0.43     -1.03      1.82  22059.08      1.00\n",
      "theta_decentered[7]      0.08      0.88      0.08     -1.40      1.51  24400.77      1.00\n",
      "\n"
     ]
    }
   ],
   "source": [
    "mcmc.print_summary(exclude_deterministic=False)"
   ]
  },
  {
   "cell_type": "markdown",
   "metadata": {},
   "source": [
    "#### Inference with the Ensemble Slice Sampler (ESS)"
   ]
  },
  {
   "cell_type": "code",
   "execution_count": 3,
   "metadata": {},
   "outputs": [],
   "source": [
    "rng_key = jax.random.PRNGKey(0)\n",
    "\n",
    "ess_kernel = ESS(eight_schools)\n",
    "mcmc = MCMC(ess_kernel, num_warmup=0, num_samples=20_000, num_chains=50, chain_method='vectorized')"
   ]
  },
  {
   "cell_type": "code",
   "execution_count": 4,
   "metadata": {},
   "outputs": [
    {
     "name": "stderr",
     "output_type": "stream",
     "text": [
      "sample: 100%|██████████| 20000/20000 [00:05<00:00, 3904.33it/s] \n"
     ]
    }
   ],
   "source": [
    "mcmc.run(rng_key, J, sigma, y=y)"
   ]
  },
  {
   "cell_type": "code",
   "execution_count": 5,
   "metadata": {},
   "outputs": [
    {
     "name": "stdout",
     "output_type": "stream",
     "text": [
      "\n",
      "                         mean       std    median      5.0%     95.0%     n_eff     r_hat\n",
      "                 mu      4.36      3.03      4.38     -0.59      9.37 640510.05      1.00\n",
      "                tau      4.04      3.32      3.21      0.00      8.38 633294.09      1.00\n",
      "           theta[0]      6.47      5.45      5.83     -1.95     14.77 711467.24      1.00\n",
      "           theta[1]      4.99      4.46      4.88     -2.28     12.10 725126.23      1.00\n",
      "           theta[2]      3.82      5.02      4.08     -4.05     11.76 715660.34      1.00\n",
      "           theta[3]      4.78      4.54      4.72     -2.51     12.06 665468.42      1.00\n",
      "           theta[4]      3.44      4.43      3.72     -3.60     10.67 716694.15      1.00\n",
      "           theta[5]      3.96      4.63      4.14     -3.39     11.47 713719.99      1.00\n",
      "           theta[6]      6.53      4.91      6.01     -1.26     14.25 668140.16      1.00\n",
      "           theta[7]      4.88      5.06      4.77     -3.11     12.81 689937.55      1.00\n",
      "theta_decentered[0]      0.35      0.90      0.37     -1.13      1.82 652985.31      1.00\n",
      "theta_decentered[1]      0.11      0.84      0.12     -1.28      1.49 659188.19      1.00\n",
      "theta_decentered[2]     -0.09      0.87     -0.10     -1.52      1.34 668647.53      1.00\n",
      "theta_decentered[3]      0.07      0.85      0.07     -1.30      1.49 645843.64      1.00\n",
      "theta_decentered[4]     -0.18      0.83     -0.18     -1.56      1.18 675056.08      1.00\n",
      "theta_decentered[5]     -0.07      0.85     -0.08     -1.46      1.33 669188.19      1.00\n",
      "theta_decentered[6]      0.39      0.87      0.41     -1.04      1.80 674289.58      1.00\n",
      "theta_decentered[7]      0.08      0.88      0.08     -1.36      1.53 673452.99      1.00\n",
      "\n"
     ]
    }
   ],
   "source": [
    "mcmc.print_summary(exclude_deterministic=False)"
   ]
  },
  {
   "cell_type": "code",
   "execution_count": null,
   "metadata": {},
   "outputs": [],
   "source": []
  }
 ],
 "metadata": {
  "kernelspec": {
   "display_name": "mcmcfun",
   "language": "python",
   "name": "python3"
  },
  "language_info": {
   "codemirror_mode": {
    "name": "ipython",
    "version": 3
   },
   "file_extension": ".py",
   "mimetype": "text/x-python",
   "name": "python",
   "nbconvert_exporter": "python",
   "pygments_lexer": "ipython3",
   "version": "3.10.14"
  }
 },
 "nbformat": 4,
 "nbformat_minor": 2
}
